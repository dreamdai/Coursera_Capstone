{
 "cells": [
  {
   "cell_type": "markdown",
   "metadata": {},
   "source": [
    "## Introduction:\n",
    "\n",
    "The purpose of this Project is to use machine learning techniques to provide detailed insights for the factors relevant to the house prices in midwest, specifically Omaha-Lincoln-Des Moines Metro (Including: Omaha, Council Bluffs, Bellevue, Papillion, La Vista, Des Moines, West Des Moines, Ankeny, Urbandale and Lincoln).\n",
    "\n",
    "A home is usually the biggest expense for a common family. A trusted way to monitor the value of the asset is incredible important in modern life. For decades, people are struggling to get their prediction of a house. It shows hope when machine learning is applied in this area. Zillow is an American online real estate database company dedicated to empowering onsumers with data, inspiration and knowledge. Zillow has data on approximately 110 million homes across the United State. It offers several features including value estimates of homes, value changes of each home, aerial views of homes, and prices of comparable homes in the same area. Also, they provide the basic information of a home, such as square footage, the area of the land and the number of bedrooms and bathroom. This not only gives the users the information needed for their decisions of buying a home, but also offers us large scale of data to do data investigation. \n",
    "\n",
    "This Project aim to help people who want to buy a house in the Omaha-Lincoln-des Moines Metro by knowing the determing factors of the house prices. The features of venues categories could also provide valuabe information to help people who is looking for a house with specific nearby venues. \n",
    "\n",
    "\n",
    "\n",
    "## The Problem to Solve:\n",
    "\n",
    "Zillow also offers an estimate value of a home known as “Zestimate” based on a range of publicly available information. However, its algorithm is not publicly available and there is always controversy about the accuracy of “Zestimate”. Using data published on the Zillow website, the typical Zestimate error in the United States in July 2016 was $ 14,000. According to Los Angeles Times, Zillow seemingly overemphasizes home square footage as the major metric driving property valuation. Furthermore, Zillow offers national wide real estate information and it is really doubtful that they will design different algorithms for different area. However, situations vary tremendously from east coast to west coast, from north to south. Zillow, themselves, started a competition with a one-million-dollar grand prize challenging the data science community to help push the accuracy of the Zestimate.\n",
    "\n",
    "As we mentioned, a house value is absolutely more than location and square footage. Like the features that make up a person, a more sophisticated way to give a house its value should take all aspects into consideration. I are going to take advantages of the venue categories information from Foursquares to complement the house features available from zillow, and apply different machine learning models to analyze and predict the house prices in Omaha-Lincoln-Des Moines area, aiming to help people identify the determing factors of a house, and make the right decision to buy a house."
   ]
  }
 ],
 "metadata": {
  "kernelspec": {
   "display_name": "Python 3",
   "language": "python",
   "name": "python3"
  },
  "language_info": {
   "codemirror_mode": {
    "name": "ipython",
    "version": 3
   },
   "file_extension": ".py",
   "mimetype": "text/x-python",
   "name": "python",
   "nbconvert_exporter": "python",
   "pygments_lexer": "ipython3",
   "version": "3.7.6"
  }
 },
 "nbformat": 4,
 "nbformat_minor": 1
}
