{
 "cells": [
  {
   "cell_type": "markdown",
   "metadata": {},
   "source": [
    "# Data Description:\n",
    "\n",
    "House Information from zillow (https://www.zillow.com/homes/for_sale) for Omaha-Lincoln-Des Moines metro will be scraped as the primary data source, which includes the attributes of: \n",
    "- ‘address’, \n",
    "- ‘links’, \n",
    "- ‘num_bedroom’, \n",
    "- ‘num_bathroom’, \n",
    "- ‘basement’, \n",
    "- ‘flooring’, \n",
    "- ‘heating’, \n",
    "- ‘cooling’, \n",
    "- ‘livable_area’, \n",
    "- ‘num_parking’, \n",
    "- ‘num_garage’, \n",
    "- ‘lot_size’, \n",
    "- ‘home_type’, \n",
    "- ‘roof’, \n",
    "- ‘year_built’, \n",
    "- ‘year_remodel’, \n",
    "- ‘school_rating’, \n",
    "- ‘latitude’, \n",
    "- ‘longitude’\n",
    "- ‘price’. \n",
    "\n",
    "# Foursquare API Data:\n",
    "\n",
    "I will complement the zillow data with the different venue categories and the number of these venue categories in the neighborhoods of each house using the geographical information of each house. \n",
    "\n",
    "In order to gain such information I will use \"Foursquare\" locational information. \"Foursquare\" will use the longitude and latitude data in the scarped zillow data for each house, and get the names of nearby venue categories as well as the number of the these categories.\n"
   ]
  }
 ],
 "metadata": {
  "kernelspec": {
   "display_name": "Python 3",
   "language": "python",
   "name": "python3"
  },
  "language_info": {
   "codemirror_mode": {
    "name": "ipython",
    "version": 3
   },
   "file_extension": ".py",
   "mimetype": "text/x-python",
   "name": "python",
   "nbconvert_exporter": "python",
   "pygments_lexer": "ipython3",
   "version": "3.7.6"
  }
 },
 "nbformat": 4,
 "nbformat_minor": 1
}
