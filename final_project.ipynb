{
 "cells": [
  {
   "cell_type": "markdown",
   "metadata": {},
   "source": [
    "<center><h1> Understanding Midwest Hourse Price </h1></center> "
   ]
  },
  {
   "cell_type": "markdown",
   "metadata": {},
   "source": [
    "<h2><center> By: Jun Dai </center></h2>"
   ]
  },
  {
   "cell_type": "markdown",
   "metadata": {},
   "source": [
    "## Step 1: Scrape Zillow, basic house information"
   ]
  },
  {
   "cell_type": "code",
   "execution_count": 1,
   "metadata": {},
   "outputs": [],
   "source": [
    "## load libraries\n",
    "#common ones\n",
    "import os\n",
    "import time\n",
    "import sys\n",
    "import numpy as np\n",
    "import pandas as pd\n",
    "import regex as re\n",
    "import matplotlib.pyplot as plt\n",
    "import seaborn as sns\n",
    "# libraries used for scrape\n",
    "from bs4 import BeautifulSoup\n",
    "import requests\n",
    "#from selenium import webdriver\n",
    "#from selenium.webdriver.common.keys import Keys\n",
    "#from selenium.webdriver.common.by import By\n",
    "#import lxml\n",
    "#from lxml.html.soupparser import fromstring\n",
    "\n",
    "\n",
    "# setting for basemap\n",
    "os.environ['PROJ_LIB'] = 'C:/Users/Jun/Anaconda3/Lib/site-packages/mpl_toolkits/basemap'\n",
    "from mpl_toolkits.basemap import Basemap"
   ]
  },
  {
   "cell_type": "code",
   "execution_count": 239,
   "metadata": {},
   "outputs": [],
   "source": [
    "import warnings\n",
    "warnings.simplefilter(action='ignore', category=FutureWarning)"
   ]
  },
  {
   "cell_type": "code",
   "execution_count": 2,
   "metadata": {},
   "outputs": [],
   "source": [
    "#set some display settings for notebooks\n",
    "\n",
    "pd.set_option('display.max_rows', 500)\n",
    "pd.set_option('display.max_columns', 500)\n",
    "pd.set_option('display.width', 1000)\n",
    "\n",
    "#add headers in case you use chromedriver (captchas are no fun); namely used for chromedriver\n",
    "req_headers = {\n",
    "    'accept': 'text/html,application/xhtml+xml,application/xml;q=0.9,image/webp,image/apng,*/*;q=0.8',\n",
    "    'accept-encoding': 'gzip, deflate, br',\n",
    "    'accept-language': 'en-US,en;q=0.8',\n",
    "    'upgrade-insecure-requests': '1',\n",
    "    'user-agent': 'Mozilla/5.0 (Windows NT 10.0; Win64; x64) AppleWebKit/537.36 (KHTML, like Gecko) Chrome/61.0.3163.100 Safari/537.36'\n",
    "}"
   ]
  },
  {
   "cell_type": "markdown",
   "metadata": {},
   "source": [
    "### cities scraped are:\n",
    "- Omaha metro: omaha, Council Bluffs, Bellevue, Papillion \n",
    "- Des Moines metropolitan:Des Moines, West Des Moines, Ankeny, Urbandale\n",
    "- Lincoln\n"
   ]
  },
  {
   "cell_type": "code",
   "execution_count": 3,
   "metadata": {},
   "outputs": [],
   "source": [
    "def get_df(city):\n",
    "    #create url variables for each zillow page\n",
    "    with requests.Session() as s:\n",
    "        city = city + '/' #*****change this city to what you want!!!!*****\n",
    "\n",
    "        urls = []\n",
    "        urls.append('https://www.zillow.com/homes/for_sale/'+city)\n",
    "        for i in range(2, 26):\n",
    "            urls.append('https://www.zillow.com/homes/for_sale/'+city+str(i)+'_p/')\n",
    "\n",
    "        rs = [s.get(url, headers=req_headers) for url in urls]\n",
    "\n",
    "    #add contents of urls to soup variable from each url\n",
    "    soups = [BeautifulSoup(r.content, 'html.parser') for r in rs]\n",
    "\n",
    "    df = pd.DataFrame()\n",
    "\n",
    "    #all for loops are pulling the specified variable using beautiful soup and inserting into said variable\n",
    "    for soup in soups:\n",
    "        temp_df = pd.DataFrame()\n",
    "        for i in soup:\n",
    "            address = soup.find_all (class_= 'list-card-addr')\n",
    "            price = list(soup.find_all (class_='list-card-price'))\n",
    "            link = soup.find_all (class_= 'list-card-link')\n",
    "\n",
    "            #create dataframe columns out of variables\n",
    "            temp_df['prices'] = price\n",
    "            temp_df['address'] = address\n",
    "#            temp_df['beds'] = beds\n",
    "\n",
    "        #create empty url list\n",
    "        url_refs = []\n",
    "\n",
    "        #loop through url, pull the href and strip out the address tag\n",
    "        for link in soup.find_all(\"article\"):\n",
    "            href = link.find('a',class_=\"list-card-link\")\n",
    "            addresses = href.find('address')\n",
    "            addresses.extract()\n",
    "            url_refs.append(href)\n",
    "\n",
    "        #import urls into a links column\n",
    "        temp_df['links'] = url_refs\n",
    "        temp_df['links'] = temp_df['links'].astype('str')\n",
    "\n",
    "        #remove html tags\n",
    "        temp_df['links'] = temp_df['links'].replace('<a class=\"list-card-link\" href=\"', ' ', regex=True)\n",
    "        temp_df['links'] = temp_df['links'].replace('\" tabindex=\"0\"></a>', ' ', regex=True)\n",
    "        temp_df['links'] = temp_df['links'].replace('<aaria-hidden=\"false\"class=\"list-card-linkcarousel-list-card-link-no-activation\"href=\"', '', regex=True)\n",
    "\n",
    "        if df.shape[0] < temp_df.shape[0]:\n",
    "            df = temp_df\n",
    "        else:\n",
    "            df = pd.concat([df, temp_df], axis=0)\n",
    "    #convert columns to str\n",
    "    df['prices'] = df['prices'].astype('str')\n",
    "    df['address'] = df['address'].astype('str')\n",
    " #   df['beds'] = df['beds'].astype('str')\n",
    "\n",
    "    #remove html tags\n",
    "    df['prices'] = df['prices'].replace('<div class=\"list-card-price\">', ' ', regex=True)\n",
    "    df['address'] = df['address'].replace('<address class=\"list-card-addr\">', ' ', regex=True)\n",
    "    df['prices'] = df['prices'].replace('</div>', ' ', regex=True)\n",
    "    df['address'] = df['address'].replace('</address>', ' ', regex=True)\n",
    "    df['prices'] = df['prices'].str.replace(r'\\D', '')\n",
    "    #drop nulls\n",
    "    df = df[(df['prices'] != '') & (df['prices']!= ' ')]\n",
    "\n",
    "    #convert column to float\n",
    "    df['prices'] = df['prices'].astype('float')\n",
    "\n",
    "    #remove spaces from link column\n",
    "    df['links'] = df.links.str.replace(' ','')\n",
    "    \n",
    "    # print out the dimension to keep track of the size of the dataset\n",
    "    print('The column datatypes are:')\n",
    "    print(df.dtypes)\n",
    "    print('The dataframe shape is:', df.shape)\n",
    "\n",
    "    #rearrange the columns\n",
    "    df = df[['prices', 'address', 'links']]\n",
    "    df.links = df.links.apply(lambda x: x[55:])\n",
    "    return df"
   ]
  },
  {
   "cell_type": "code",
   "execution_count": 4,
   "metadata": {},
   "outputs": [
    {
     "name": "stdout",
     "output_type": "stream",
     "text": [
      "The column datatypes are:\n",
      "prices     float64\n",
      "address     object\n",
      "links       object\n",
      "dtype: object\n",
      "The dataframe shape is: (999, 3)\n",
      "The column datatypes are:\n",
      "prices     float64\n",
      "address     object\n",
      "links       object\n",
      "dtype: object\n",
      "The dataframe shape is: (999, 3)\n",
      "The column datatypes are:\n",
      "prices     float64\n",
      "address     object\n",
      "links       object\n",
      "dtype: object\n",
      "The dataframe shape is: (980, 3)\n",
      "The column datatypes are:\n",
      "prices     float64\n",
      "address     object\n",
      "links       object\n",
      "dtype: object\n",
      "The dataframe shape is: (977, 3)\n"
     ]
    }
   ],
   "source": [
    "# intitial datasets\n",
    "# Omaha metro: omaha, Council Bluffs, Bellevue, Papillion, La Vista\n",
    "# Des Moines metropolitan:Des Moines, West Des Moines, Ankeny, Urbandale\n",
    "# Lincoln\n",
    "df_lnk = get_df('lincoln')\n",
    "df_omaha = get_df('omaha')\n",
    "df_cb = get_df('council-bluffs')\n",
    "df_bellevue = get_df('bellevue')"
   ]
  },
  {
   "cell_type": "code",
   "execution_count": 5,
   "metadata": {},
   "outputs": [
    {
     "name": "stdout",
     "output_type": "stream",
     "text": [
      "The column datatypes are:\n",
      "prices     float64\n",
      "address     object\n",
      "links       object\n",
      "dtype: object\n",
      "The dataframe shape is: (993, 3)\n",
      "The column datatypes are:\n",
      "prices     float64\n",
      "address     object\n",
      "links       object\n",
      "dtype: object\n",
      "The dataframe shape is: (986, 3)\n"
     ]
    }
   ],
   "source": [
    "# get data for Papillion and Des Moines\n",
    "df_papi = get_df('papillion-ne')\n",
    "df_dm = get_df('des-moines')"
   ]
  },
  {
   "cell_type": "code",
   "execution_count": 8,
   "metadata": {},
   "outputs": [
    {
     "name": "stdout",
     "output_type": "stream",
     "text": [
      "The column datatypes are:\n",
      "prices     float64\n",
      "address     object\n",
      "links       object\n",
      "dtype: object\n",
      "The dataframe shape is: (982, 3)\n",
      "The column datatypes are:\n",
      "prices     float64\n",
      "address     object\n",
      "links       object\n",
      "dtype: object\n",
      "The dataframe shape is: (1000, 3)\n",
      "The column datatypes are:\n",
      "prices     float64\n",
      "address     object\n",
      "links       object\n",
      "dtype: object\n",
      "The dataframe shape is: (980, 3)\n"
     ]
    }
   ],
   "source": [
    "# scrape more for cities\n",
    "\n",
    "df_wdm = get_df('west-des-moines')\n",
    "df_arkeny = get_df('arkeny')\n",
    "df_urbandale = get_df('urbandale')"
   ]
  },
  {
   "cell_type": "code",
   "execution_count": 15,
   "metadata": {},
   "outputs": [],
   "source": [
    "# combined the different data together\n",
    "\n",
    "df_combined = pd.concat([df_lnk, df_omaha, df_cb, df_bellevue, df_papi, df_dm, df_wdm, df_arkeny, df_urbandale])"
   ]
  },
  {
   "cell_type": "code",
   "execution_count": 17,
   "metadata": {},
   "outputs": [],
   "source": [
    "# reset index \n",
    "\n",
    "df_combined.reset_index(drop=True, inplace=True)"
   ]
  },
  {
   "cell_type": "code",
   "execution_count": 22,
   "metadata": {},
   "outputs": [],
   "source": [
    "# save the data\n",
    "\n",
    "df_combined.to_csv('df_combined.csv')"
   ]
  },
  {
   "cell_type": "code",
   "execution_count": 14,
   "metadata": {},
   "outputs": [],
   "source": [
    "df_combined= pd.read_csv('df_combined.csv', index_col=0)"
   ]
  },
  {
   "cell_type": "code",
   "execution_count": 23,
   "metadata": {},
   "outputs": [
    {
     "data": {
      "text/plain": [
       "4935"
      ]
     },
     "execution_count": 23,
     "metadata": {},
     "output_type": "execute_result"
    }
   ],
   "source": [
    "# number of dunplicated data\n",
    "\n",
    "df_combined.duplicated().sum()"
   ]
  },
  {
   "cell_type": "code",
   "execution_count": 25,
   "metadata": {},
   "outputs": [
    {
     "data": {
      "text/html": [
       "<div>\n",
       "<style scoped>\n",
       "    .dataframe tbody tr th:only-of-type {\n",
       "        vertical-align: middle;\n",
       "    }\n",
       "\n",
       "    .dataframe tbody tr th {\n",
       "        vertical-align: top;\n",
       "    }\n",
       "\n",
       "    .dataframe thead th {\n",
       "        text-align: right;\n",
       "    }\n",
       "</style>\n",
       "<table border=\"1\" class=\"dataframe\">\n",
       "  <thead>\n",
       "    <tr style=\"text-align: right;\">\n",
       "      <th></th>\n",
       "      <th>prices</th>\n",
       "      <th>address</th>\n",
       "      <th>links</th>\n",
       "    </tr>\n",
       "  </thead>\n",
       "  <tbody>\n",
       "    <tr>\n",
       "      <th>0</th>\n",
       "      <td>169900.0</td>\n",
       "      <td>308 S 53rd St, Lincoln, NE 68510</td>\n",
       "      <td>https://www.zillow.com/homedetails/308-S-53rd-...</td>\n",
       "    </tr>\n",
       "    <tr>\n",
       "      <th>1</th>\n",
       "      <td>150000.0</td>\n",
       "      <td>1262 S 22nd St, Lincoln, NE 68502</td>\n",
       "      <td>https://www.zillow.com/homedetails/1262-S-22nd...</td>\n",
       "    </tr>\n",
       "    <tr>\n",
       "      <th>2</th>\n",
       "      <td>175000.0</td>\n",
       "      <td>5236 Pioneers Blvd, Lincoln, NE 68506</td>\n",
       "      <td>https://www.zillow.com/homedetails/5236-Pionee...</td>\n",
       "    </tr>\n",
       "    <tr>\n",
       "      <th>3</th>\n",
       "      <td>287500.0</td>\n",
       "      <td>1530 Skyline Dr, Lincoln, NE 68506</td>\n",
       "      <td>https://www.zillow.com/homedetails/1530-Skylin...</td>\n",
       "    </tr>\n",
       "    <tr>\n",
       "      <th>4</th>\n",
       "      <td>259900.0</td>\n",
       "      <td>431 Redwood Dr, Lincoln, NE 68510</td>\n",
       "      <td>https://www.zillow.com/homedetails/431-Redwood...</td>\n",
       "    </tr>\n",
       "  </tbody>\n",
       "</table>\n",
       "</div>"
      ],
      "text/plain": [
       "     prices                                  address                                              links\n",
       "0  169900.0        308 S 53rd St, Lincoln, NE 68510   https://www.zillow.com/homedetails/308-S-53rd-...\n",
       "1  150000.0       1262 S 22nd St, Lincoln, NE 68502   https://www.zillow.com/homedetails/1262-S-22nd...\n",
       "2  175000.0   5236 Pioneers Blvd, Lincoln, NE 68506   https://www.zillow.com/homedetails/5236-Pionee...\n",
       "3  287500.0      1530 Skyline Dr, Lincoln, NE 68506   https://www.zillow.com/homedetails/1530-Skylin...\n",
       "4  259900.0       431 Redwood Dr, Lincoln, NE 68510   https://www.zillow.com/homedetails/431-Redwood..."
      ]
     },
     "execution_count": 25,
     "metadata": {},
     "output_type": "execute_result"
    }
   ],
   "source": [
    "# drop the duplicated data\n",
    "\n",
    "df_lincoln_omaha_desmoine = df_combined[df_combined.duplicated()==False]\n",
    "df_lincoln_omaha_desmoine.reset_index(drop=True, inplace=True)\n",
    "df_lincoln_omaha_desmoine.head()"
   ]
  },
  {
   "cell_type": "code",
   "execution_count": 26,
   "metadata": {},
   "outputs": [],
   "source": [
    "# save the cleaned dataset for this part\n",
    "df_lincoln_omaha_desmoine.to_csv('df_lnk_omaha_desmoine.csv', index=None)"
   ]
  },
  {
   "cell_type": "markdown",
   "metadata": {},
   "source": [
    "## step2: Complement the dataset with more information using the link in each column"
   ]
  },
  {
   "cell_type": "code",
   "execution_count": 27,
   "metadata": {},
   "outputs": [],
   "source": [
    "# This help function takes a house link as input and output the features such as number of \n",
    "# bedrooms, number of bathrooms as listed on the website of the house\n",
    "\n",
    "def get_data_from_lnk(link):\n",
    "    num_bedroom=np.nan\n",
    "    num_bathroom = np.nan\n",
    "    basement=np.nan\n",
    "    flooring = np.nan\n",
    "    heating = np.nan\n",
    "    cooling = np.nan\n",
    "    livable_area = np.nan\n",
    "    num_parking = np.nan\n",
    "    num_garage = np.nan\n",
    "    lot_size = np.nan\n",
    "    home_type = np.nan\n",
    "    roof = np.nan\n",
    "    year_built = np.nan\n",
    "    style = np.nan\n",
    "    school_rating = np.nan\n",
    "    remodel_year = np.nan\n",
    "    lat = np.nan\n",
    "    long = np.nan\n",
    "    with requests.Session() as s:\n",
    "        r = s.get(link, headers=req_headers)\n",
    "        soup = BeautifulSoup(r.content, 'html.parser')\n",
    "        temp = [i.get_text(strip=True) for i in soup.find_all('span', {'class':re.compile('Text-aiai24-0.*')})]\n",
    "        # get latitude and longitude\n",
    "        try:\n",
    "            ex = soup.findAll('script', {'type' : 'application/ld+json'})\n",
    "            test = str(ex[0]).lower()\n",
    "            index1 = str(ex[0]).lower().index('longitude')\n",
    "            index2 = str(ex[0]).lower().index('latitude')\n",
    "            long, lat = str(ex[0])[index1+11:index1+11+10], test[index2+10:index2+10+10]\n",
    "        except:\n",
    "            pass\n",
    "\n",
    "        # collect other house information\n",
    "        for i, data in enumerate(temp):\n",
    "            if data.lower().startswith('bedrooms:'):\n",
    "                num_bedroom = data.split(':')[1]\n",
    "            elif data.lower().startswith('bathrooms:'):\n",
    "                num_bathroom = data.split(':')[1]\n",
    "            elif data.lower().startswith('basement:'):\n",
    "                basement = data.split(':')[1]\n",
    "            elif data.lower().startswith('flooring:'):\n",
    "                flooring = data.split(':')[1]\n",
    "            elif data.lower().startswith('heating features:'):\n",
    "                heating = data.split(':')\n",
    "            elif data.lower().startswith('cooling:'):\n",
    "                cooling = data.split(':')[1]\n",
    "            elif data.lower().startswith('total interior livable area:'):\n",
    "                livable_area = data.split(':')[1]\n",
    "            elif data.lower().startswith('total spaces:'):\n",
    "                num_parking = data.split(':')[1]\n",
    "            elif data.lower().startswith('garage spaces:'):\n",
    "                num_garage = data.split(':')[1]\n",
    "            elif data.lower().startswith('lot size:'):\n",
    "                lot_size = data.split(':')[1]\n",
    "            elif data.lower().startswith('home type:'):\n",
    "                home_type = data.split(':')[1]\n",
    "            elif data.lower().startswith('roof:'):\n",
    "                roof = data.split(':')[1]\n",
    "            elif data.lower().startswith('year built:'):\n",
    "                year_built = data.split(':')[1]\n",
    "            elif data.lower().startswith('major remodel year:'):\n",
    "                remodel_year = data.split(':')[1]\n",
    "            elif data.startswith('GreatSchools rating'):\n",
    "                school_rating = temp[i+1]\n",
    "    return num_bedroom, num_bathroom, basement, flooring, heating, cooling, \\\n",
    "           livable_area, num_parking, num_garage, lot_size, home_type, roof, \\\n",
    "           year_built, remodel_year, school_rating, lat, long\n",
    "            "
   ]
  },
  {
   "cell_type": "code",
   "execution_count": 29,
   "metadata": {},
   "outputs": [],
   "source": [
    "# collect data for all links\n",
    "\n",
    "# here all links in the previous sraped dataset are looped over and further scraped.\n",
    "# this part is seperated into two parts to avoid ip banning from zillow.\n",
    "\n",
    "bedrooms = []\n",
    "bathrooms = []\n",
    "basement_info = []\n",
    "flooring_info = []\n",
    "heating_info = []\n",
    "cooling_info = []\n",
    "livable_size = []\n",
    "parkings = []\n",
    "garages = []\n",
    "lotsize = []\n",
    "hometype = []\n",
    "roof_type = []\n",
    "built_year = []\n",
    "major_remodel = []\n",
    "school_rate = []\n",
    "latitude = []\n",
    "logitude = []\n",
    "for link in df_lincoln_omaha_desmoine.links[:1900]:\n",
    "    num_bedroom, num_bathroom, basement, flooring, heating, cooling, \\\n",
    "    livable_area, num_parking, num_garage, lot_size, home_type, roof, \\\n",
    "    year_built, remodel_year, school_rating, lat, long = get_data_from_lnk(link)\n",
    "    bedrooms.append(num_bedroom)\n",
    "    bathrooms.append(num_bathroom)\n",
    "    basement_info.append(basement)\n",
    "    flooring_info.append(flooring)\n",
    "    heating_info.append(heating)\n",
    "    cooling_info.append(cooling)\n",
    "    livable_size.append(livable_area)\n",
    "    parkings.append(num_parking)\n",
    "    garages.append(num_garage)\n",
    "    lotsize.append(lot_size)\n",
    "    hometype.append(home_type)\n",
    "    roof_type.append(roof)\n",
    "    built_year.append(year_built)\n",
    "    major_remodel.append(remodel_year)\n",
    "    school_rate.append(school_rating)\n",
    "    latitude.append(lat)\n",
    "    logitude.append(long)"
   ]
  },
  {
   "cell_type": "code",
   "execution_count": 31,
   "metadata": {},
   "outputs": [],
   "source": [
    "# zillow bans ip when scraping, so I split the IPs and do them seperately\n",
    "\n",
    "for link in df_lincoln_omaha_desmoine.links[1900:]:\n",
    "    num_bedroom, num_bathroom, basement, flooring, heating, cooling, \\\n",
    "    livable_area, num_parking, num_garage, lot_size, home_type, roof, \\\n",
    "    year_built, remodel_year, school_rating, lat, long = get_data_from_lnk(link)\n",
    "    bedrooms.append(num_bedroom)\n",
    "    bathrooms.append(num_bathroom)\n",
    "    basement_info.append(basement)\n",
    "    flooring_info.append(flooring)\n",
    "    heating_info.append(heating)\n",
    "    cooling_info.append(cooling)\n",
    "    livable_size.append(livable_area)\n",
    "    parkings.append(num_parking)\n",
    "    garages.append(num_garage)\n",
    "    lotsize.append(lot_size)\n",
    "    hometype.append(home_type)\n",
    "    roof_type.append(roof)\n",
    "    built_year.append(year_built)\n",
    "    major_remodel.append(remodel_year)\n",
    "    school_rate.append(school_rating)\n",
    "    latitude.append(lat)\n",
    "    logitude.append(long)"
   ]
  },
  {
   "cell_type": "code",
   "execution_count": 32,
   "metadata": {},
   "outputs": [],
   "source": [
    "# make a copy of the scraped dataset\n",
    "\n",
    "df_short = df_lincoln_omaha_desmoine.copy()"
   ]
  },
  {
   "cell_type": "code",
   "execution_count": 33,
   "metadata": {},
   "outputs": [],
   "source": [
    "# append information to the dataset\n",
    "\n",
    "df_short['num_bedroom'] = bedrooms\n",
    "df_short['num_bathroom'] = bathrooms\n",
    "df_short['basement'] = basement_info\n",
    "df_short['flooring'] = flooring_info\n",
    "df_short['heating'] = heating_info\n",
    "df_short['cooling'] = cooling_info\n",
    "df_short['livable_area'] = livable_size\n",
    "df_short['num_parking'] = parkings\n",
    "df_short['num_garage'] = garages\n",
    "df_short['lot_size'] = lotsize\n",
    "df_short['home_type'] = hometype\n",
    "df_short['roof'] = roof_type\n",
    "df_short['year_built'] = built_year\n",
    "df_short['year_remodel'] = major_remodel\n",
    "df_short['school_rating'] = school_rate\n",
    "df_short['latitude'] = latitude\n",
    "df_short['longitude'] = logitude\n",
    "    "
   ]
  },
  {
   "cell_type": "code",
   "execution_count": 34,
   "metadata": {},
   "outputs": [],
   "source": [
    "# move the price to the last of the column\n",
    "\n",
    "cols = list(df_short.columns)\n",
    "col_names = list(cols[1:])\n",
    "col_names.append(cols[0])\n",
    "df_short = df_short[col_names]\n",
    "# reset index\n",
    "df_short.reset_index(drop=True, inplace=True)"
   ]
  },
  {
   "cell_type": "code",
   "execution_count": 41,
   "metadata": {},
   "outputs": [],
   "source": [
    "# save the data\n",
    "\n",
    "import pickle\n",
    "\n",
    "df_short.to_csv('raw_df_total.csv', index=True)\n",
    "pickle.dump(df_short, open( \"df_short.pkl\", \"wb\" ))"
   ]
  },
  {
   "cell_type": "code",
   "execution_count": 42,
   "metadata": {},
   "outputs": [],
   "source": [
    "# fix the string issue in latitude and longitude\n",
    "\n",
    "df_short['latitude'] = df_short.latitude.apply(lambda x:(re.sub(r'[/:{},\"a-zA-Z]', '', str(x))))\n",
    "df_short['longitude'] = df_short.longitude.apply(lambda x:(re.sub(r'[/:{},\"a-zA-Z]', '', str(x))))\n",
    "\n",
    "df_short.latitude = df_short.latitude.apply(lambda x: float(x) if len(x)>0 else np.nan)\n",
    "df_short.longitude = df_short.longitude.apply(lambda x: float(x) if len(x)>0 else np.nan)"
   ]
  },
  {
   "cell_type": "code",
   "execution_count": 43,
   "metadata": {},
   "outputs": [],
   "source": [
    "# change the datatype from str to numeric for the following features\n",
    "\n",
    "df_short.num_bathroom = df_short.num_bathroom.astype('float')\n",
    "df_short.num_bedroom  = df_short.num_bedroom.astype('float')\n",
    "df_short.num_garage = df_short.num_garage.astype('float')\n",
    "df_short.num_parking = df_short.num_parking.astype('float')"
   ]
  },
  {
   "cell_type": "code",
   "execution_count": 44,
   "metadata": {},
   "outputs": [],
   "source": [
    "# pickle the updated dataframe\n",
    "\n",
    "pickle.dump(df_short, open( \"df_short.pkl\", \"wb\" ))"
   ]
  },
  {
   "cell_type": "markdown",
   "metadata": {},
   "source": [
    "## Step 3: Exploratory Data Analysis"
   ]
  },
  {
   "cell_type": "code",
   "execution_count": 1,
   "metadata": {},
   "outputs": [],
   "source": [
    "# load previous saved data\n",
    "\n",
    "import pickle\n",
    "df_zillow = pickle.load(open( \"df_short.pkl\", \"rb\" ))"
   ]
  },
  {
   "cell_type": "code",
   "execution_count": 132,
   "metadata": {},
   "outputs": [
    {
     "data": {
      "text/html": [
       "<div>\n",
       "<style scoped>\n",
       "    .dataframe tbody tr th:only-of-type {\n",
       "        vertical-align: middle;\n",
       "    }\n",
       "\n",
       "    .dataframe tbody tr th {\n",
       "        vertical-align: top;\n",
       "    }\n",
       "\n",
       "    .dataframe thead th {\n",
       "        text-align: right;\n",
       "    }\n",
       "</style>\n",
       "<table border=\"1\" class=\"dataframe\">\n",
       "  <thead>\n",
       "    <tr style=\"text-align: right;\">\n",
       "      <th></th>\n",
       "      <th>address</th>\n",
       "      <th>links</th>\n",
       "      <th>num_bedroom</th>\n",
       "      <th>num_bathroom</th>\n",
       "      <th>basement</th>\n",
       "      <th>flooring</th>\n",
       "      <th>heating</th>\n",
       "      <th>cooling</th>\n",
       "      <th>livable_area</th>\n",
       "      <th>num_parking</th>\n",
       "      <th>num_garage</th>\n",
       "      <th>lot_size</th>\n",
       "      <th>home_type</th>\n",
       "      <th>roof</th>\n",
       "      <th>year_built</th>\n",
       "      <th>year_remodel</th>\n",
       "      <th>school_rating</th>\n",
       "      <th>latitude</th>\n",
       "      <th>longitude</th>\n",
       "      <th>prices</th>\n",
       "    </tr>\n",
       "  </thead>\n",
       "  <tbody>\n",
       "    <tr>\n",
       "      <th>0</th>\n",
       "      <td>308 S 53rd St, Lincoln, NE 68510</td>\n",
       "      <td>https://www.zillow.com/homedetails/308-S-53rd-...</td>\n",
       "      <td>3.0</td>\n",
       "      <td>2.0</td>\n",
       "      <td>None</td>\n",
       "      <td>Carpet, Hardwood</td>\n",
       "      <td>[Heating features, Forced air, Gas]</td>\n",
       "      <td>Central Air</td>\n",
       "      <td>1,320 sqft</td>\n",
       "      <td>1.0</td>\n",
       "      <td>1.0</td>\n",
       "      <td>8,276 sqft</td>\n",
       "      <td>Single Family</td>\n",
       "      <td>Other</td>\n",
       "      <td>1958</td>\n",
       "      <td>NaN</td>\n",
       "      <td>7</td>\n",
       "      <td>40.811314</td>\n",
       "      <td>-96.647384</td>\n",
       "      <td>169900.0</td>\n",
       "    </tr>\n",
       "    <tr>\n",
       "      <th>1</th>\n",
       "      <td>1262 S 22nd St, Lincoln, NE 68502</td>\n",
       "      <td>https://www.zillow.com/homedetails/1262-S-22nd...</td>\n",
       "      <td>3.0</td>\n",
       "      <td>2.0</td>\n",
       "      <td>Yes</td>\n",
       "      <td>NaN</td>\n",
       "      <td>[Heating features, Forced air, Gas]</td>\n",
       "      <td>Central Air</td>\n",
       "      <td>1,728 sqft</td>\n",
       "      <td>1.0</td>\n",
       "      <td>1.0</td>\n",
       "      <td>6,969 sqft</td>\n",
       "      <td>Single Family</td>\n",
       "      <td>Composition</td>\n",
       "      <td>1910</td>\n",
       "      <td>NaN</td>\n",
       "      <td>3</td>\n",
       "      <td>40.800304</td>\n",
       "      <td>-96.688903</td>\n",
       "      <td>150000.0</td>\n",
       "    </tr>\n",
       "    <tr>\n",
       "      <th>2</th>\n",
       "      <td>5236 Pioneers Blvd, Lincoln, NE 68506</td>\n",
       "      <td>https://www.zillow.com/homedetails/5236-Pionee...</td>\n",
       "      <td>3.0</td>\n",
       "      <td>2.0</td>\n",
       "      <td>Partially finished</td>\n",
       "      <td>Hardwood, Linoleum / Vinyl</td>\n",
       "      <td>[Heating features, Gas, Forced air]</td>\n",
       "      <td>Central Air</td>\n",
       "      <td>1,604 sqft</td>\n",
       "      <td>NaN</td>\n",
       "      <td>1.0</td>\n",
       "      <td>0.17 acres</td>\n",
       "      <td>Single Family</td>\n",
       "      <td>Composition</td>\n",
       "      <td>1948</td>\n",
       "      <td>NaN</td>\n",
       "      <td>4</td>\n",
       "      <td>40.770038</td>\n",
       "      <td>-96.648379</td>\n",
       "      <td>175000.0</td>\n",
       "    </tr>\n",
       "    <tr>\n",
       "      <th>3</th>\n",
       "      <td>1530 Skyline Dr, Lincoln, NE 68506</td>\n",
       "      <td>https://www.zillow.com/homedetails/1530-Skylin...</td>\n",
       "      <td>2.0</td>\n",
       "      <td>3.0</td>\n",
       "      <td>Partially finished</td>\n",
       "      <td>NaN</td>\n",
       "      <td>[Heating features, Gas, Forced air]</td>\n",
       "      <td>Central Air</td>\n",
       "      <td>2,124 sqft</td>\n",
       "      <td>NaN</td>\n",
       "      <td>2.0</td>\n",
       "      <td>0.26 acres</td>\n",
       "      <td>Single Family</td>\n",
       "      <td>Composition</td>\n",
       "      <td>1961</td>\n",
       "      <td>NaN</td>\n",
       "      <td>6</td>\n",
       "      <td>40.797557</td>\n",
       "      <td>-96.639582</td>\n",
       "      <td>287500.0</td>\n",
       "    </tr>\n",
       "    <tr>\n",
       "      <th>4</th>\n",
       "      <td>431 Redwood Dr, Lincoln, NE 68510</td>\n",
       "      <td>https://www.zillow.com/homedetails/431-Redwood...</td>\n",
       "      <td>4.0</td>\n",
       "      <td>3.0</td>\n",
       "      <td>Finished</td>\n",
       "      <td>Hardwood</td>\n",
       "      <td>[Heating features, Gas, Forced air]</td>\n",
       "      <td>Central Air</td>\n",
       "      <td>2,229 sqft</td>\n",
       "      <td>NaN</td>\n",
       "      <td>2.0</td>\n",
       "      <td>0.23 acres</td>\n",
       "      <td>Single Family</td>\n",
       "      <td>Composition</td>\n",
       "      <td>1966</td>\n",
       "      <td>NaN</td>\n",
       "      <td>8</td>\n",
       "      <td>40.808858</td>\n",
       "      <td>-96.610494</td>\n",
       "      <td>259900.0</td>\n",
       "    </tr>\n",
       "  </tbody>\n",
       "</table>\n",
       "</div>"
      ],
      "text/plain": [
       "                                   address  \\\n",
       "0        308 S 53rd St, Lincoln, NE 68510    \n",
       "1       1262 S 22nd St, Lincoln, NE 68502    \n",
       "2   5236 Pioneers Blvd, Lincoln, NE 68506    \n",
       "3      1530 Skyline Dr, Lincoln, NE 68506    \n",
       "4       431 Redwood Dr, Lincoln, NE 68510    \n",
       "\n",
       "                                               links  num_bedroom  \\\n",
       "0  https://www.zillow.com/homedetails/308-S-53rd-...          3.0   \n",
       "1  https://www.zillow.com/homedetails/1262-S-22nd...          3.0   \n",
       "2  https://www.zillow.com/homedetails/5236-Pionee...          3.0   \n",
       "3  https://www.zillow.com/homedetails/1530-Skylin...          2.0   \n",
       "4  https://www.zillow.com/homedetails/431-Redwood...          4.0   \n",
       "\n",
       "   num_bathroom            basement                    flooring  \\\n",
       "0           2.0                None            Carpet, Hardwood   \n",
       "1           2.0                 Yes                         NaN   \n",
       "2           2.0  Partially finished  Hardwood, Linoleum / Vinyl   \n",
       "3           3.0  Partially finished                         NaN   \n",
       "4           3.0            Finished                    Hardwood   \n",
       "\n",
       "                               heating      cooling livable_area  num_parking  \\\n",
       "0  [Heating features, Forced air, Gas]  Central Air   1,320 sqft          1.0   \n",
       "1  [Heating features, Forced air, Gas]  Central Air   1,728 sqft          1.0   \n",
       "2  [Heating features, Gas, Forced air]  Central Air   1,604 sqft          NaN   \n",
       "3  [Heating features, Gas, Forced air]  Central Air   2,124 sqft          NaN   \n",
       "4  [Heating features, Gas, Forced air]  Central Air   2,229 sqft          NaN   \n",
       "\n",
       "   num_garage    lot_size      home_type         roof year_built year_remodel  \\\n",
       "0         1.0  8,276 sqft  Single Family        Other       1958          NaN   \n",
       "1         1.0  6,969 sqft  Single Family  Composition       1910          NaN   \n",
       "2         1.0  0.17 acres  Single Family  Composition       1948          NaN   \n",
       "3         2.0  0.26 acres  Single Family  Composition       1961          NaN   \n",
       "4         2.0  0.23 acres  Single Family  Composition       1966          NaN   \n",
       "\n",
       "  school_rating   latitude  longitude    prices  \n",
       "0             7  40.811314 -96.647384  169900.0  \n",
       "1             3  40.800304 -96.688903  150000.0  \n",
       "2             4  40.770038 -96.648379  175000.0  \n",
       "3             6  40.797557 -96.639582  287500.0  \n",
       "4             8  40.808858 -96.610494  259900.0  "
      ]
     },
     "execution_count": 132,
     "metadata": {},
     "output_type": "execute_result"
    }
   ],
   "source": [
    "df_zillow.head()"
   ]
  },
  {
   "cell_type": "code",
   "execution_count": 153,
   "metadata": {},
   "outputs": [
    {
     "name": "stdout",
     "output_type": "stream",
     "text": [
      "<class 'pandas.core.frame.DataFrame'>\n",
      "RangeIndex: 3933 entries, 0 to 3932\n",
      "Data columns (total 20 columns):\n",
      " #   Column         Non-Null Count  Dtype  \n",
      "---  ------         --------------  -----  \n",
      " 0   address        3933 non-null   object \n",
      " 1   links          3933 non-null   object \n",
      " 2   num_bedroom    3291 non-null   float64\n",
      " 3   num_bathroom   3194 non-null   float64\n",
      " 4   basement       2176 non-null   object \n",
      " 5   flooring       2172 non-null   object \n",
      " 6   heating        3135 non-null   object \n",
      " 7   cooling        1395 non-null   object \n",
      " 8   livable_area   3286 non-null   object \n",
      " 9   num_parking    1500 non-null   float64\n",
      " 10  num_garage     2894 non-null   float64\n",
      " 11  lot_size       2783 non-null   object \n",
      " 12  home_type      3295 non-null   object \n",
      " 13  roof           3032 non-null   object \n",
      " 14  year_built     3185 non-null   object \n",
      " 15  year_remodel   479 non-null    object \n",
      " 16  school_rating  3933 non-null   object \n",
      " 17  latitude       3933 non-null   float64\n",
      " 18  longitude      3933 non-null   float64\n",
      " 19  prices         3933 non-null   float64\n",
      "dtypes: float64(7), object(13)\n",
      "memory usage: 614.7+ KB\n"
     ]
    }
   ],
   "source": [
    "# data types\n",
    "df_zillow.info()"
   ]
  },
  {
   "cell_type": "code",
   "execution_count": 39,
   "metadata": {},
   "outputs": [
    {
     "data": {
      "text/html": [
       "<div>\n",
       "<style scoped>\n",
       "    .dataframe tbody tr th:only-of-type {\n",
       "        vertical-align: middle;\n",
       "    }\n",
       "\n",
       "    .dataframe tbody tr th {\n",
       "        vertical-align: top;\n",
       "    }\n",
       "\n",
       "    .dataframe thead th {\n",
       "        text-align: right;\n",
       "    }\n",
       "</style>\n",
       "<table border=\"1\" class=\"dataframe\">\n",
       "  <thead>\n",
       "    <tr style=\"text-align: right;\">\n",
       "      <th></th>\n",
       "      <th>num_bedroom</th>\n",
       "      <th>num_bathroom</th>\n",
       "      <th>num_parking</th>\n",
       "      <th>num_garage</th>\n",
       "      <th>latitude</th>\n",
       "      <th>longitude</th>\n",
       "      <th>prices</th>\n",
       "    </tr>\n",
       "  </thead>\n",
       "  <tbody>\n",
       "    <tr>\n",
       "      <th>count</th>\n",
       "      <td>3314.000000</td>\n",
       "      <td>3217.000000</td>\n",
       "      <td>1521.000000</td>\n",
       "      <td>2916.000000</td>\n",
       "      <td>3933.000000</td>\n",
       "      <td>3933.000000</td>\n",
       "      <td>3.961000e+03</td>\n",
       "    </tr>\n",
       "    <tr>\n",
       "      <th>mean</th>\n",
       "      <td>3.251660</td>\n",
       "      <td>2.629468</td>\n",
       "      <td>1.756082</td>\n",
       "      <td>2.054870</td>\n",
       "      <td>41.792542</td>\n",
       "      <td>-97.574829</td>\n",
       "      <td>4.205441e+05</td>\n",
       "    </tr>\n",
       "    <tr>\n",
       "      <th>std</th>\n",
       "      <td>1.780611</td>\n",
       "      <td>1.261308</td>\n",
       "      <td>1.359302</td>\n",
       "      <td>1.340646</td>\n",
       "      <td>1.782775</td>\n",
       "      <td>7.532810</td>\n",
       "      <td>7.655944e+05</td>\n",
       "    </tr>\n",
       "    <tr>\n",
       "      <th>min</th>\n",
       "      <td>0.000000</td>\n",
       "      <td>0.000000</td>\n",
       "      <td>0.000000</td>\n",
       "      <td>0.000000</td>\n",
       "      <td>39.820756</td>\n",
       "      <td>-122.217460</td>\n",
       "      <td>1.100000e+03</td>\n",
       "    </tr>\n",
       "    <tr>\n",
       "      <th>25%</th>\n",
       "      <td>3.000000</td>\n",
       "      <td>2.000000</td>\n",
       "      <td>1.000000</td>\n",
       "      <td>1.000000</td>\n",
       "      <td>41.129314</td>\n",
       "      <td>-96.604080</td>\n",
       "      <td>1.500000e+05</td>\n",
       "    </tr>\n",
       "    <tr>\n",
       "      <th>50%</th>\n",
       "      <td>3.000000</td>\n",
       "      <td>3.000000</td>\n",
       "      <td>2.000000</td>\n",
       "      <td>2.000000</td>\n",
       "      <td>41.290449</td>\n",
       "      <td>-96.037704</td>\n",
       "      <td>2.649000e+05</td>\n",
       "    </tr>\n",
       "    <tr>\n",
       "      <th>75%</th>\n",
       "      <td>4.000000</td>\n",
       "      <td>3.000000</td>\n",
       "      <td>3.000000</td>\n",
       "      <td>3.000000</td>\n",
       "      <td>41.589413</td>\n",
       "      <td>-93.783732</td>\n",
       "      <td>4.290000e+05</td>\n",
       "    </tr>\n",
       "    <tr>\n",
       "      <th>max</th>\n",
       "      <td>81.000000</td>\n",
       "      <td>13.000000</td>\n",
       "      <td>13.000000</td>\n",
       "      <td>18.000000</td>\n",
       "      <td>47.655671</td>\n",
       "      <td>-93.508468</td>\n",
       "      <td>2.750000e+07</td>\n",
       "    </tr>\n",
       "  </tbody>\n",
       "</table>\n",
       "</div>"
      ],
      "text/plain": [
       "       num_bedroom  num_bathroom  num_parking   num_garage     latitude  \\\n",
       "count  3314.000000   3217.000000  1521.000000  2916.000000  3933.000000   \n",
       "mean      3.251660      2.629468     1.756082     2.054870    41.792542   \n",
       "std       1.780611      1.261308     1.359302     1.340646     1.782775   \n",
       "min       0.000000      0.000000     0.000000     0.000000    39.820756   \n",
       "25%       3.000000      2.000000     1.000000     1.000000    41.129314   \n",
       "50%       3.000000      3.000000     2.000000     2.000000    41.290449   \n",
       "75%       4.000000      3.000000     3.000000     3.000000    41.589413   \n",
       "max      81.000000     13.000000    13.000000    18.000000    47.655671   \n",
       "\n",
       "         longitude        prices  \n",
       "count  3933.000000  3.961000e+03  \n",
       "mean    -97.574829  4.205441e+05  \n",
       "std       7.532810  7.655944e+05  \n",
       "min    -122.217460  1.100000e+03  \n",
       "25%     -96.604080  1.500000e+05  \n",
       "50%     -96.037704  2.649000e+05  \n",
       "75%     -93.783732  4.290000e+05  \n",
       "max     -93.508468  2.750000e+07  "
      ]
     },
     "execution_count": 39,
     "metadata": {},
     "output_type": "execute_result"
    }
   ],
   "source": [
    "# statistical informations\n",
    "\n",
    "df_zillow.describe()"
   ]
  },
  {
   "cell_type": "code",
   "execution_count": 147,
   "metadata": {},
   "outputs": [
    {
     "data": {
      "text/plain": [
       "address             0\n",
       "links               0\n",
       "num_bedroom       647\n",
       "num_bathroom      744\n",
       "basement         1770\n",
       "flooring         1771\n",
       "heating           805\n",
       "cooling          2560\n",
       "livable_area      652\n",
       "num_parking      2440\n",
       "num_garage       1045\n",
       "lot_size         1159\n",
       "home_type         643\n",
       "roof              907\n",
       "year_built        754\n",
       "year_remodel     3477\n",
       "school_rating       5\n",
       "latitude           28\n",
       "longitude          28\n",
       "prices              0\n",
       "dtype: int64"
      ]
     },
     "execution_count": 147,
     "metadata": {},
     "output_type": "execute_result"
    }
   ],
   "source": [
    "df_zillow.isna().sum()"
   ]
  },
  {
   "cell_type": "code",
   "execution_count": 57,
   "metadata": {},
   "outputs": [
    {
     "data": {
      "image/png": "[encoded data removed]",
      "text/plain": [
       "<Figure size 432x288 with 1 Axes>"
      ]
     },
     "metadata": {
      "needs_background": "light"
     },
     "output_type": "display_data"
    }
   ],
   "source": [
    "# check null values\n",
    "\n",
    "missing_values = df_zillow.isna().sum()\n",
    "missing_values = missing_values.sort_values(ascending=True)\n",
    "plt.barh(missing_values[4:].index, 100*missing_values[4:].values/df_zillow.shape[0])\n",
    "with plt.style.context('seaborn-white') as _:\n",
    "    plt.title('Percent of Missing Values', fontsize=15)\n",
    "    plt.xlabel('Percent', fontsize=15)\n",
    "    plt.xticks(fontsize=13)\n",
    "    plt.yticks(fontsize=12)\n",
    "    plt.savefig('na_ration.png')"
   ]
  },
  {
   "cell_type": "code",
   "execution_count": 148,
   "metadata": {},
   "outputs": [],
   "source": [
    "# drop the rows with null latitude and longitude\n",
    "\n",
    "df_zillow = df_zillow[df_zillow.latitude.isna()==False]\n",
    "df_zillow.reset_index(drop=True, inplace=True)"
   ]
  },
  {
   "cell_type": "code",
   "execution_count": 96,
   "metadata": {},
   "outputs": [
    {
     "data": {
      "text/html": [
       "<div>\n",
       "<style scoped>\n",
       "    .dataframe tbody tr th:only-of-type {\n",
       "        vertical-align: middle;\n",
       "    }\n",
       "\n",
       "    .dataframe tbody tr th {\n",
       "        vertical-align: top;\n",
       "    }\n",
       "\n",
       "    .dataframe thead th {\n",
       "        text-align: right;\n",
       "    }\n",
       "</style>\n",
       "<table border=\"1\" class=\"dataframe\">\n",
       "  <thead>\n",
       "    <tr style=\"text-align: right;\">\n",
       "      <th></th>\n",
       "      <th>links</th>\n",
       "      <th>num_bedroom</th>\n",
       "      <th>num_bathroom</th>\n",
       "      <th>basement</th>\n",
       "      <th>heating</th>\n",
       "      <th>cooling</th>\n",
       "      <th>livable_area</th>\n",
       "      <th>num_parking</th>\n",
       "      <th>num_garage</th>\n",
       "      <th>lot_size</th>\n",
       "      <th>home_type</th>\n",
       "      <th>roof</th>\n",
       "      <th>year_built</th>\n",
       "      <th>year_remodel</th>\n",
       "      <th>school_rating</th>\n",
       "      <th>latitude</th>\n",
       "      <th>longitude</th>\n",
       "      <th>prices</th>\n",
       "    </tr>\n",
       "    <tr>\n",
       "      <th>address</th>\n",
       "      <th></th>\n",
       "      <th></th>\n",
       "      <th></th>\n",
       "      <th></th>\n",
       "      <th></th>\n",
       "      <th></th>\n",
       "      <th></th>\n",
       "      <th></th>\n",
       "      <th></th>\n",
       "      <th></th>\n",
       "      <th></th>\n",
       "      <th></th>\n",
       "      <th></th>\n",
       "      <th></th>\n",
       "      <th></th>\n",
       "      <th></th>\n",
       "      <th></th>\n",
       "      <th></th>\n",
       "    </tr>\n",
       "  </thead>\n",
       "  <tbody>\n",
       "    <tr>\n",
       "      <th>6035 Lafayette Ave, Omaha, NE 68132</th>\n",
       "      <td>https://www.zillow.com/homedetails/6035-Lafaye...</td>\n",
       "      <td>3.0</td>\n",
       "      <td>2.0</td>\n",
       "      <td>Yes</td>\n",
       "      <td>['Heating features', 'Forced air, Gas']</td>\n",
       "      <td>Central Air</td>\n",
       "      <td>1490.0</td>\n",
       "      <td>1.0</td>\n",
       "      <td>1.0</td>\n",
       "      <td>0.25</td>\n",
       "      <td>Single Family</td>\n",
       "      <td>Composition</td>\n",
       "      <td>1955.0</td>\n",
       "      <td>NaN</td>\n",
       "      <td>2</td>\n",
       "      <td>41.271194</td>\n",
       "      <td>-96.006736</td>\n",
       "      <td>170000</td>\n",
       "    </tr>\n",
       "    <tr>\n",
       "      <th>13311 Slayton St, Omaha, NE 68138</th>\n",
       "      <td>https://www.zillow.com/homedetails/13311-Slayt...</td>\n",
       "      <td>3.0</td>\n",
       "      <td>3.0</td>\n",
       "      <td>Yes</td>\n",
       "      <td>['Heating features', 'Forced air, Gas']</td>\n",
       "      <td>Central Air</td>\n",
       "      <td>1668.0</td>\n",
       "      <td>2.0</td>\n",
       "      <td>2.0</td>\n",
       "      <td>8973.00</td>\n",
       "      <td>Single Family</td>\n",
       "      <td>Composition</td>\n",
       "      <td>1973.0</td>\n",
       "      <td>NaN</td>\n",
       "      <td>7</td>\n",
       "      <td>41.140034</td>\n",
       "      <td>-96.121963</td>\n",
       "      <td>215000</td>\n",
       "    </tr>\n",
       "    <tr>\n",
       "      <th>5808 S 239th St, Elkhorn, NE 68022</th>\n",
       "      <td>https://www.zillow.com/homedetails/5808-S-239t...</td>\n",
       "      <td>5.0</td>\n",
       "      <td>6.0</td>\n",
       "      <td>Yes</td>\n",
       "      <td>['Heating features', 'Forced air, Gas']</td>\n",
       "      <td>Central Air</td>\n",
       "      <td>4801.0</td>\n",
       "      <td>3.0</td>\n",
       "      <td>3.0</td>\n",
       "      <td>0.31</td>\n",
       "      <td>Single Family</td>\n",
       "      <td>Composition</td>\n",
       "      <td>2015.0</td>\n",
       "      <td>NaN</td>\n",
       "      <td>8</td>\n",
       "      <td>41.198498</td>\n",
       "      <td>-96.290756</td>\n",
       "      <td>675000</td>\n",
       "    </tr>\n",
       "    <tr>\n",
       "      <th>3021 S 94th St, Omaha, NE 68124</th>\n",
       "      <td>https://www.zillow.com/homedetails/3021-S-94th...</td>\n",
       "      <td>3.0</td>\n",
       "      <td>3.0</td>\n",
       "      <td>Yes</td>\n",
       "      <td>['Heating features', 'Forced air, Gas']</td>\n",
       "      <td>Central Air</td>\n",
       "      <td>1976.0</td>\n",
       "      <td>2.0</td>\n",
       "      <td>2.0</td>\n",
       "      <td>10018.00</td>\n",
       "      <td>Single Family</td>\n",
       "      <td>Composition</td>\n",
       "      <td>1964.0</td>\n",
       "      <td>NaN</td>\n",
       "      <td>8</td>\n",
       "      <td>41.231110</td>\n",
       "      <td>-96.059982</td>\n",
       "      <td>196500</td>\n",
       "    </tr>\n",
       "    <tr>\n",
       "      <th>111 S 51st St, Omaha, NE 68132</th>\n",
       "      <td>https://www.zillow.com/homedetails/111-S-51st-...</td>\n",
       "      <td>3.0</td>\n",
       "      <td>3.0</td>\n",
       "      <td>Yes</td>\n",
       "      <td>['Heating features', 'Forced air, Gas']</td>\n",
       "      <td>Central Air</td>\n",
       "      <td>1898.0</td>\n",
       "      <td>2.0</td>\n",
       "      <td>2.0</td>\n",
       "      <td>6534.00</td>\n",
       "      <td>Single Family</td>\n",
       "      <td>Composition</td>\n",
       "      <td>1921.0</td>\n",
       "      <td>NaN</td>\n",
       "      <td>5</td>\n",
       "      <td>41.258778</td>\n",
       "      <td>-95.992301</td>\n",
       "      <td>265000</td>\n",
       "    </tr>\n",
       "  </tbody>\n",
       "</table>\n",
       "</div>"
      ],
      "text/plain": [
       "                                                                                   links  \\\n",
       "address                                                                                    \n",
       " 6035 Lafayette Ave, Omaha, NE 68132   https://www.zillow.com/homedetails/6035-Lafaye...   \n",
       " 13311 Slayton St, Omaha, NE 68138     https://www.zillow.com/homedetails/13311-Slayt...   \n",
       " 5808 S 239th St, Elkhorn, NE 68022    https://www.zillow.com/homedetails/5808-S-239t...   \n",
       " 3021 S 94th St, Omaha, NE 68124       https://www.zillow.com/homedetails/3021-S-94th...   \n",
       " 111 S 51st St, Omaha, NE 68132        https://www.zillow.com/homedetails/111-S-51st-...   \n",
       "\n",
       "                                       num_bedroom  num_bathroom basement  \\\n",
       "address                                                                     \n",
       " 6035 Lafayette Ave, Omaha, NE 68132           3.0           2.0      Yes   \n",
       " 13311 Slayton St, Omaha, NE 68138             3.0           3.0      Yes   \n",
       " 5808 S 239th St, Elkhorn, NE 68022            5.0           6.0      Yes   \n",
       " 3021 S 94th St, Omaha, NE 68124               3.0           3.0      Yes   \n",
       " 111 S 51st St, Omaha, NE 68132                3.0           3.0      Yes   \n",
       "\n",
       "                                                                       heating  \\\n",
       "address                                                                          \n",
       " 6035 Lafayette Ave, Omaha, NE 68132   ['Heating features', 'Forced air, Gas']   \n",
       " 13311 Slayton St, Omaha, NE 68138     ['Heating features', 'Forced air, Gas']   \n",
       " 5808 S 239th St, Elkhorn, NE 68022    ['Heating features', 'Forced air, Gas']   \n",
       " 3021 S 94th St, Omaha, NE 68124       ['Heating features', 'Forced air, Gas']   \n",
       " 111 S 51st St, Omaha, NE 68132        ['Heating features', 'Forced air, Gas']   \n",
       "\n",
       "                                           cooling  livable_area  num_parking  \\\n",
       "address                                                                         \n",
       " 6035 Lafayette Ave, Omaha, NE 68132   Central Air        1490.0          1.0   \n",
       " 13311 Slayton St, Omaha, NE 68138     Central Air        1668.0          2.0   \n",
       " 5808 S 239th St, Elkhorn, NE 68022    Central Air        4801.0          3.0   \n",
       " 3021 S 94th St, Omaha, NE 68124       Central Air        1976.0          2.0   \n",
       " 111 S 51st St, Omaha, NE 68132        Central Air        1898.0          2.0   \n",
       "\n",
       "                                       num_garage  lot_size      home_type  \\\n",
       "address                                                                      \n",
       " 6035 Lafayette Ave, Omaha, NE 68132          1.0      0.25  Single Family   \n",
       " 13311 Slayton St, Omaha, NE 68138            2.0   8973.00  Single Family   \n",
       " 5808 S 239th St, Elkhorn, NE 68022           3.0      0.31  Single Family   \n",
       " 3021 S 94th St, Omaha, NE 68124              2.0  10018.00  Single Family   \n",
       " 111 S 51st St, Omaha, NE 68132               2.0   6534.00  Single Family   \n",
       "\n",
       "                                              roof  year_built  year_remodel  \\\n",
       "address                                                                        \n",
       " 6035 Lafayette Ave, Omaha, NE 68132   Composition      1955.0           NaN   \n",
       " 13311 Slayton St, Omaha, NE 68138     Composition      1973.0           NaN   \n",
       " 5808 S 239th St, Elkhorn, NE 68022    Composition      2015.0           NaN   \n",
       " 3021 S 94th St, Omaha, NE 68124       Composition      1964.0           NaN   \n",
       " 111 S 51st St, Omaha, NE 68132        Composition      1921.0           NaN   \n",
       "\n",
       "                                      school_rating   latitude  longitude  \\\n",
       "address                                                                     \n",
       " 6035 Lafayette Ave, Omaha, NE 68132              2  41.271194 -96.006736   \n",
       " 13311 Slayton St, Omaha, NE 68138                7  41.140034 -96.121963   \n",
       " 5808 S 239th St, Elkhorn, NE 68022               8  41.198498 -96.290756   \n",
       " 3021 S 94th St, Omaha, NE 68124                  8  41.231110 -96.059982   \n",
       " 111 S 51st St, Omaha, NE 68132                   5  41.258778 -95.992301   \n",
       "\n",
       "                                       prices  \n",
       "address                                        \n",
       " 6035 Lafayette Ave, Omaha, NE 68132   170000  \n",
       " 13311 Slayton St, Omaha, NE 68138     215000  \n",
       " 5808 S 239th St, Elkhorn, NE 68022    675000  \n",
       " 3021 S 94th St, Omaha, NE 68124       196500  \n",
       " 111 S 51st St, Omaha, NE 68132        265000  "
      ]
     },
     "execution_count": 96,
     "metadata": {},
     "output_type": "execute_result"
    }
   ],
   "source": [
    "df_test = pd.read_csv('Omaha.csv', index_col=0)\n",
    "df_test.head()"
   ]
  },
  {
   "cell_type": "code",
   "execution_count": 98,
   "metadata": {},
   "outputs": [
    {
     "data": {
      "text/plain": [
       "count    2867.000000\n",
       "mean      -98.234162\n",
       "std         8.824886\n",
       "min      -122.217460\n",
       "25%       -96.186679\n",
       "50%       -95.949574\n",
       "75%       -93.692191\n",
       "max       -93.508468\n",
       "Name: longitude, dtype: float64"
      ]
     },
     "execution_count": 98,
     "metadata": {},
     "output_type": "execute_result"
    }
   ],
   "source": [
    "df_test.longitude.describe()"
   ]
  },
  {
   "cell_type": "code",
   "execution_count": 103,
   "metadata": {},
   "outputs": [
    {
     "data": {
      "text/plain": [
       "14.320342859604006"
      ]
     },
     "execution_count": 103,
     "metadata": {},
     "output_type": "execute_result"
    }
   ],
   "source": [
    "df_test.prices.skew()"
   ]
  },
  {
   "cell_type": "code",
   "execution_count": 150,
   "metadata": {},
   "outputs": [
    {
     "data": {
      "image/png": "[encoded data removed]",
      "text/plain": [
       "<Figure size 720x432 with 1 Axes>"
      ]
     },
     "metadata": {},
     "output_type": "display_data"
    }
   ],
   "source": [
    "# display the location of houses\n",
    "\n",
    "lats = df_test.lat.values\n",
    "longs = df_test.long.values\n",
    "price = df_test.prices.values\n",
    "\n",
    "# determine range to print based on min, max lat and long of the data\n",
    "#margin = .2 # buffer to add to the range\n",
    "#lat_min = min(lats) - margin\n",
    "#lat_max = max(lats) + margin\n",
    "#long_min = min(longs) - margin\n",
    "#long_max = max(longs) + margin\n",
    "\n",
    "plt.figure(figsize=(10, 6))\n",
    "# create map using BASEMAP\n",
    "m = Basemap(llcrnrlon=-98,\n",
    "            llcrnrlat=40,\n",
    "            urcrnrlon=-93,\n",
    "            urcrnrlat=42,\n",
    "#            projection='merc',\n",
    "            )\n",
    "#m.drawcoastlines()\n",
    "m.drawcountries()\n",
    "m.drawstates()\n",
    "m.drawcounties()\n",
    "m.drawmapboundary()\n",
    "#m.fillcontinents(color='lightgray',zorder=0)\n",
    "#m.fillcontinents(color = 'white',lake_color='#46bcec')\n",
    "# convert lat and long to map projection coordinates\n",
    "#lat_s, long_s = m(lats, longs)\n",
    "# plot points as red dots\n",
    "m.scatter(longs, lats, marker='o', color='red', zorder=10, latlon=True, s=price/50000, alpha=0.5)\n",
    "plt.savefig('house_scattering.png')"
   ]
  },
  {
   "cell_type": "markdown",
   "metadata": {},
   "source": [
    "## Step 4: Data Preparation"
   ]
  },
  {
   "cell_type": "code",
   "execution_count": 151,
   "metadata": {},
   "outputs": [
    {
     "name": "stdout",
     "output_type": "stream",
     "text": [
      "['sqft']\n",
      "647\n"
     ]
    }
   ],
   "source": [
    "liveablt_units = []\n",
    "num_nan = 0\n",
    "for l_u in df_zillow.livable_area.values:\n",
    "    if isinstance(l_u, str):\n",
    "        liveablt_units.append(l_u.split(' ')[1])\n",
    "    else:\n",
    "        num_nan = num_nan + 1\n",
    "print(np.unique(liveablt_units))\n",
    "print(num_nan)"
   ]
  },
  {
   "cell_type": "code",
   "execution_count": 152,
   "metadata": {},
   "outputs": [
    {
     "name": "stdout",
     "output_type": "stream",
     "text": [
      "['Acres' 'acres' 'sqft']\n",
      "1150\n"
     ]
    }
   ],
   "source": [
    "lotsize_units = []\n",
    "num_nan = 0\n",
    "for lot in df_zillow.lot_size.values:\n",
    "    if isinstance(lot, str):\n",
    "        lotsize_units.append(lot.split(' ')[1])\n",
    "    else:\n",
    "        num_nan = num_nan + 1\n",
    "print(np.unique(lotsize_units))\n",
    "print(num_nan)"
   ]
  },
  {
   "cell_type": "markdown",
   "metadata": {},
   "source": [
    "It is observed liveable_area only have one unit, sqft, while lotsize has acres and sqft, so we need to unify the units."
   ]
  },
  {
   "cell_type": "code",
   "execution_count": 167,
   "metadata": {},
   "outputs": [],
   "source": [
    "# convert string to numeric for lot_size and livable area\n",
    "\n",
    "def size_to_numeric(s):\n",
    "    if isinstance(s, str):\n",
    "        # if a s is a string do the following\n",
    "        # '12,340 sqft' ->'12,340' and 'sqft' ->'12340'\n",
    "        result = s.split(' ')\n",
    "        size = result[0]\n",
    "        size = re.sub(r'[,a-zA-Z]', '', size)\n",
    "        if 'acre' in result[1].strip().lower():\n",
    "            return float(size)*43560\n",
    "        else:\n",
    "            return float(size)\n",
    "    else:\n",
    "        # if not str, return itself (nan)\n",
    "        return s\n",
    "\n"
   ]
  },
  {
   "cell_type": "code",
   "execution_count": 175,
   "metadata": {},
   "outputs": [],
   "source": [
    "# apply the function to liveable_area and lot_size\n",
    "\n",
    "df_zillow.livable_area = df_zillow.livable_area.apply(size_to_numeric)\n",
    "df_zillow.lot_size = df_zillow.lot_size.apply(size_to_numeric)\n"
   ]
  },
  {
   "cell_type": "code",
   "execution_count": 179,
   "metadata": {},
   "outputs": [],
   "source": [
    "# fill the null values with median value for livable area and lotsize\n",
    "\n",
    "livable_median = df_zillow.livable_area.median()\n",
    "df_zillow.livable_area.fillna(livable_median, inplace=True)\n",
    "\n",
    "lotsize_median = df_zillow.lot_size.median()\n",
    "df_zillow.lot_size.fillna(lotsize_median, inplace=True)"
   ]
  },
  {
   "cell_type": "code",
   "execution_count": 182,
   "metadata": {},
   "outputs": [
    {
     "name": "stdout",
     "output_type": "stream",
     "text": [
      "<class 'pandas.core.frame.DataFrame'>\n",
      "RangeIndex: 3933 entries, 0 to 3932\n",
      "Data columns (total 20 columns):\n",
      " #   Column         Non-Null Count  Dtype  \n",
      "---  ------         --------------  -----  \n",
      " 0   address        3933 non-null   object \n",
      " 1   links          3933 non-null   object \n",
      " 2   num_bedroom    3291 non-null   float64\n",
      " 3   num_bathroom   3194 non-null   float64\n",
      " 4   basement       2176 non-null   object \n",
      " 5   flooring       2172 non-null   object \n",
      " 6   heating        3135 non-null   object \n",
      " 7   cooling        1395 non-null   object \n",
      " 8   livable_area   3933 non-null   float64\n",
      " 9   num_parking    1500 non-null   float64\n",
      " 10  num_garage     2894 non-null   float64\n",
      " 11  lot_size       3933 non-null   float64\n",
      " 12  home_type      3295 non-null   object \n",
      " 13  roof           3032 non-null   object \n",
      " 14  year_built     3185 non-null   object \n",
      " 15  year_remodel   479 non-null    object \n",
      " 16  school_rating  3933 non-null   object \n",
      " 17  latitude       3933 non-null   float64\n",
      " 18  longitude      3933 non-null   float64\n",
      " 19  prices         3933 non-null   float64\n",
      "dtypes: float64(9), object(11)\n",
      "memory usage: 614.7+ KB\n"
     ]
    }
   ],
   "source": [
    "df_zillow.info()"
   ]
  },
  {
   "cell_type": "code",
   "execution_count": 183,
   "metadata": {},
   "outputs": [],
   "source": [
    "# fill the bathroom and bedroom with median\n",
    "\n",
    "num_bathroom_median = df_zillow.num_bathroom.median()\n",
    "df_zillow.num_bathroom.fillna(num_bathroom_median, inplace=True)\n",
    "num_bedroom_median = df_zillow.num_bedroom.median()\n",
    "df_zillow.num_bedroom.fillna(num_bedroom_median, inplace=True)"
   ]
  },
  {
   "cell_type": "code",
   "execution_count": 185,
   "metadata": {},
   "outputs": [
    {
     "name": "stdout",
     "output_type": "stream",
     "text": [
      "<class 'pandas.core.frame.DataFrame'>\n",
      "RangeIndex: 3933 entries, 0 to 3932\n",
      "Data columns (total 20 columns):\n",
      " #   Column         Non-Null Count  Dtype  \n",
      "---  ------         --------------  -----  \n",
      " 0   address        3933 non-null   object \n",
      " 1   links          3933 non-null   object \n",
      " 2   num_bedroom    3933 non-null   float64\n",
      " 3   num_bathroom   3933 non-null   float64\n",
      " 4   basement       2176 non-null   object \n",
      " 5   flooring       2172 non-null   object \n",
      " 6   heating        3135 non-null   object \n",
      " 7   cooling        1395 non-null   object \n",
      " 8   livable_area   3933 non-null   float64\n",
      " 9   num_parking    1500 non-null   float64\n",
      " 10  num_garage     2894 non-null   float64\n",
      " 11  lot_size       3933 non-null   float64\n",
      " 12  home_type      3295 non-null   object \n",
      " 13  roof           3032 non-null   object \n",
      " 14  year_built     3185 non-null   object \n",
      " 15  year_remodel   479 non-null    object \n",
      " 16  school_rating  3933 non-null   object \n",
      " 17  latitude       3933 non-null   float64\n",
      " 18  longitude      3933 non-null   float64\n",
      " 19  prices         3933 non-null   float64\n",
      "dtypes: float64(9), object(11)\n",
      "memory usage: 614.7+ KB\n"
     ]
    }
   ],
   "source": [
    "df_zillow.info()"
   ]
  },
  {
   "cell_type": "code",
   "execution_count": null,
   "metadata": {},
   "outputs": [],
   "source": [
    "'''\n",
    "link = df_lincoln_omaha_desmoine.links[0]\n",
    "r = s.get(link, headers=req_headers)\n",
    "soup = BeautifulSoup(r.content, 'html.parser')\n",
    "#temp = [i.get_text(strip=True) for i in soup.find_all('span', {'class':re.compile('Text-aiai24-0.*')})]\n",
    "# get latitude and longitude\n",
    "ex = soup.findAll('script', {'type' : 'application/ld+json'})\n",
    "'''"
   ]
  },
  {
   "cell_type": "code",
   "execution_count": 192,
   "metadata": {},
   "outputs": [
    {
     "name": "stdout",
     "output_type": "stream",
     "text": [
      "<class 'pandas.core.frame.DataFrame'>\n",
      "Int64Index: 3796 entries, 0 to 3932\n",
      "Data columns (total 20 columns):\n",
      " #   Column         Non-Null Count  Dtype  \n",
      "---  ------         --------------  -----  \n",
      " 0   address        3796 non-null   object \n",
      " 1   links          3796 non-null   object \n",
      " 2   num_bedroom    3796 non-null   float64\n",
      " 3   num_bathroom   3796 non-null   float64\n",
      " 4   basement       2113 non-null   object \n",
      " 5   flooring       2111 non-null   object \n",
      " 6   heating        3056 non-null   object \n",
      " 7   cooling        1352 non-null   object \n",
      " 8   livable_area   3796 non-null   float64\n",
      " 9   num_parking    1457 non-null   float64\n",
      " 10  num_garage     2820 non-null   float64\n",
      " 11  lot_size       3796 non-null   float64\n",
      " 12  home_type      3214 non-null   object \n",
      " 13  roof           2955 non-null   object \n",
      " 14  year_built     3105 non-null   object \n",
      " 15  year_remodel   464 non-null    object \n",
      " 16  school_rating  3796 non-null   object \n",
      " 17  latitude       3796 non-null   float64\n",
      " 18  longitude      3796 non-null   float64\n",
      " 19  prices         3796 non-null   float64\n",
      "dtypes: float64(9), object(11)\n",
      "memory usage: 622.8+ KB\n"
     ]
    }
   ],
   "source": [
    "df_zillow_drop_schoolrating = df_zillow[df_zillow.school_rating.apply(lambda x: x.isnumeric())]\n",
    "df_zillow_drop_schoolrating.info()"
   ]
  },
  {
   "cell_type": "code",
   "execution_count": 195,
   "metadata": {},
   "outputs": [],
   "source": [
    "df_zillow.to_csv('df_zillow_1118.csv', index=True)"
   ]
  },
  {
   "cell_type": "code",
   "execution_count": 193,
   "metadata": {},
   "outputs": [
    {
     "name": "stderr",
     "output_type": "stream",
     "text": [
      "C:\\Users\\Jun\\AppData\\Local\\Continuum\\anaconda3\\lib\\site-packages\\pandas\\core\\generic.py:5303: SettingWithCopyWarning: \n",
      "A value is trying to be set on a copy of a slice from a DataFrame.\n",
      "Try using .loc[row_indexer,col_indexer] = value instead\n",
      "\n",
      "See the caveats in the documentation: https://pandas.pydata.org/pandas-docs/stable/user_guide/indexing.html#returning-a-view-versus-a-copy\n",
      "  self[name] = value\n"
     ]
    },
    {
     "data": {
      "text/html": [
       "<div>\n",
       "<style scoped>\n",
       "    .dataframe tbody tr th:only-of-type {\n",
       "        vertical-align: middle;\n",
       "    }\n",
       "\n",
       "    .dataframe tbody tr th {\n",
       "        vertical-align: top;\n",
       "    }\n",
       "\n",
       "    .dataframe thead th {\n",
       "        text-align: right;\n",
       "    }\n",
       "</style>\n",
       "<table border=\"1\" class=\"dataframe\">\n",
       "  <thead>\n",
       "    <tr style=\"text-align: right;\">\n",
       "      <th></th>\n",
       "      <th>num_bedroom</th>\n",
       "      <th>num_bathroom</th>\n",
       "      <th>livable_area</th>\n",
       "      <th>num_parking</th>\n",
       "      <th>num_garage</th>\n",
       "      <th>lot_size</th>\n",
       "      <th>school_rating</th>\n",
       "      <th>latitude</th>\n",
       "      <th>longitude</th>\n",
       "      <th>prices</th>\n",
       "    </tr>\n",
       "  </thead>\n",
       "  <tbody>\n",
       "    <tr>\n",
       "      <th>count</th>\n",
       "      <td>3796.000000</td>\n",
       "      <td>3796.000000</td>\n",
       "      <td>3796.000000</td>\n",
       "      <td>1457.000000</td>\n",
       "      <td>2820.000000</td>\n",
       "      <td>3.796000e+03</td>\n",
       "      <td>3796.000000</td>\n",
       "      <td>3796.000000</td>\n",
       "      <td>3796.000000</td>\n",
       "      <td>3.796000e+03</td>\n",
       "    </tr>\n",
       "    <tr>\n",
       "      <th>mean</th>\n",
       "      <td>3.203899</td>\n",
       "      <td>2.687302</td>\n",
       "      <td>2114.622629</td>\n",
       "      <td>1.746740</td>\n",
       "      <td>2.052482</td>\n",
       "      <td>3.323675e+04</td>\n",
       "      <td>5.351423</td>\n",
       "      <td>41.812491</td>\n",
       "      <td>-97.606030</td>\n",
       "      <td>4.170504e+05</td>\n",
       "    </tr>\n",
       "    <tr>\n",
       "      <th>std</th>\n",
       "      <td>1.646506</td>\n",
       "      <td>1.135582</td>\n",
       "      <td>1309.173625</td>\n",
       "      <td>1.360639</td>\n",
       "      <td>1.340587</td>\n",
       "      <td>1.897228e+05</td>\n",
       "      <td>2.320397</td>\n",
       "      <td>1.798189</td>\n",
       "      <td>7.616666</td>\n",
       "      <td>7.406930e+05</td>\n",
       "    </tr>\n",
       "    <tr>\n",
       "      <th>min</th>\n",
       "      <td>0.000000</td>\n",
       "      <td>0.000000</td>\n",
       "      <td>300.000000</td>\n",
       "      <td>0.000000</td>\n",
       "      <td>0.000000</td>\n",
       "      <td>4.400000e+01</td>\n",
       "      <td>1.000000</td>\n",
       "      <td>39.820756</td>\n",
       "      <td>-122.217460</td>\n",
       "      <td>1.100000e+03</td>\n",
       "    </tr>\n",
       "    <tr>\n",
       "      <th>25%</th>\n",
       "      <td>3.000000</td>\n",
       "      <td>2.000000</td>\n",
       "      <td>1425.750000</td>\n",
       "      <td>1.000000</td>\n",
       "      <td>1.000000</td>\n",
       "      <td>7.840800e+03</td>\n",
       "      <td>3.000000</td>\n",
       "      <td>41.139625</td>\n",
       "      <td>-96.605819</td>\n",
       "      <td>1.549000e+05</td>\n",
       "    </tr>\n",
       "    <tr>\n",
       "      <th>50%</th>\n",
       "      <td>3.000000</td>\n",
       "      <td>3.000000</td>\n",
       "      <td>1792.500000</td>\n",
       "      <td>2.000000</td>\n",
       "      <td>2.000000</td>\n",
       "      <td>9.583200e+03</td>\n",
       "      <td>6.000000</td>\n",
       "      <td>41.296155</td>\n",
       "      <td>-96.027045</td>\n",
       "      <td>2.650000e+05</td>\n",
       "    </tr>\n",
       "    <tr>\n",
       "      <th>75%</th>\n",
       "      <td>4.000000</td>\n",
       "      <td>3.000000</td>\n",
       "      <td>2459.000000</td>\n",
       "      <td>3.000000</td>\n",
       "      <td>3.000000</td>\n",
       "      <td>1.132560e+04</td>\n",
       "      <td>7.000000</td>\n",
       "      <td>41.590215</td>\n",
       "      <td>-93.782902</td>\n",
       "      <td>4.280675e+05</td>\n",
       "    </tr>\n",
       "    <tr>\n",
       "      <th>max</th>\n",
       "      <td>81.000000</td>\n",
       "      <td>13.000000</td>\n",
       "      <td>20670.000000</td>\n",
       "      <td>13.000000</td>\n",
       "      <td>18.000000</td>\n",
       "      <td>7.013160e+06</td>\n",
       "      <td>10.000000</td>\n",
       "      <td>47.655671</td>\n",
       "      <td>-93.508468</td>\n",
       "      <td>2.750000e+07</td>\n",
       "    </tr>\n",
       "  </tbody>\n",
       "</table>\n",
       "</div>"
      ],
      "text/plain": [
       "       num_bedroom  num_bathroom  livable_area  num_parking   num_garage  \\\n",
       "count  3796.000000   3796.000000   3796.000000  1457.000000  2820.000000   \n",
       "mean      3.203899      2.687302   2114.622629     1.746740     2.052482   \n",
       "std       1.646506      1.135582   1309.173625     1.360639     1.340587   \n",
       "min       0.000000      0.000000    300.000000     0.000000     0.000000   \n",
       "25%       3.000000      2.000000   1425.750000     1.000000     1.000000   \n",
       "50%       3.000000      3.000000   1792.500000     2.000000     2.000000   \n",
       "75%       4.000000      3.000000   2459.000000     3.000000     3.000000   \n",
       "max      81.000000     13.000000  20670.000000    13.000000    18.000000   \n",
       "\n",
       "           lot_size  school_rating     latitude    longitude        prices  \n",
       "count  3.796000e+03    3796.000000  3796.000000  3796.000000  3.796000e+03  \n",
       "mean   3.323675e+04       5.351423    41.812491   -97.606030  4.170504e+05  \n",
       "std    1.897228e+05       2.320397     1.798189     7.616666  7.406930e+05  \n",
       "min    4.400000e+01       1.000000    39.820756  -122.217460  1.100000e+03  \n",
       "25%    7.840800e+03       3.000000    41.139625   -96.605819  1.549000e+05  \n",
       "50%    9.583200e+03       6.000000    41.296155   -96.027045  2.650000e+05  \n",
       "75%    1.132560e+04       7.000000    41.590215   -93.782902  4.280675e+05  \n",
       "max    7.013160e+06      10.000000    47.655671   -93.508468  2.750000e+07  "
      ]
     },
     "execution_count": 193,
     "metadata": {},
     "output_type": "execute_result"
    }
   ],
   "source": [
    "df_zillow_drop_schoolrating.school_rating = df_zillow_drop_schoolrating.school_rating.astype('int')\n",
    "df_zillow_drop_schoolrating.describe()"
   ]
  },
  {
   "cell_type": "code",
   "execution_count": 194,
   "metadata": {},
   "outputs": [
    {
     "name": "stdout",
     "output_type": "stream",
     "text": [
      "<class 'pandas.core.frame.DataFrame'>\n",
      "Int64Index: 3796 entries, 0 to 3932\n",
      "Data columns (total 20 columns):\n",
      " #   Column         Non-Null Count  Dtype  \n",
      "---  ------         --------------  -----  \n",
      " 0   address        3796 non-null   object \n",
      " 1   links          3796 non-null   object \n",
      " 2   num_bedroom    3796 non-null   float64\n",
      " 3   num_bathroom   3796 non-null   float64\n",
      " 4   basement       2113 non-null   object \n",
      " 5   flooring       2111 non-null   object \n",
      " 6   heating        3056 non-null   object \n",
      " 7   cooling        1352 non-null   object \n",
      " 8   livable_area   3796 non-null   float64\n",
      " 9   num_parking    1457 non-null   float64\n",
      " 10  num_garage     2820 non-null   float64\n",
      " 11  lot_size       3796 non-null   float64\n",
      " 12  home_type      3214 non-null   object \n",
      " 13  roof           2955 non-null   object \n",
      " 14  year_built     3105 non-null   object \n",
      " 15  year_remodel   464 non-null    object \n",
      " 16  school_rating  3796 non-null   int32  \n",
      " 17  latitude       3796 non-null   float64\n",
      " 18  longitude      3796 non-null   float64\n",
      " 19  prices         3796 non-null   float64\n",
      "dtypes: float64(9), int32(1), object(10)\n",
      "memory usage: 608.0+ KB\n"
     ]
    }
   ],
   "source": [
    "df_zillow_drop_schoolrating.info()"
   ]
  },
  {
   "cell_type": "code",
   "execution_count": 202,
   "metadata": {},
   "outputs": [
    {
     "data": {
      "image/png": "[encoded data removed]",
      "text/plain": [
       "<Figure size 432x288 with 1 Axes>"
      ]
     },
     "metadata": {
      "needs_background": "light"
     },
     "output_type": "display_data"
    }
   ],
   "source": [
    "# plot the home_type\n",
    "\n",
    "home_type_counts = df_zillow_drop_schoolrating.home_type.value_counts(ascending=True)\n",
    "\n",
    "plt.barh(home_type_counts.index, home_type_counts.values)\n",
    "plt.title('Numbers of House Types in Dataset', fontsize=15)\n",
    "plt.savefig('home_type.png')"
   ]
  },
  {
   "cell_type": "code",
   "execution_count": 205,
   "metadata": {},
   "outputs": [],
   "source": [
    "# define a function to clean the \n",
    "def trim_hometype(s):\n",
    "    if isinstance(s, str):\n",
    "        if 'condo' in s.lower():\n",
    "            return 'condo'\n",
    "        elif 'single' in s.lower():\n",
    "            return 'single_family'\n",
    "        elif 'townhouse' in s.lower():\n",
    "            return 'townhouse'\n",
    "    else:\n",
    "        return np.nan"
   ]
  },
  {
   "cell_type": "code",
   "execution_count": 207,
   "metadata": {},
   "outputs": [
    {
     "name": "stderr",
     "output_type": "stream",
     "text": [
      "C:\\Users\\Jun\\AppData\\Local\\Continuum\\anaconda3\\lib\\site-packages\\pandas\\core\\generic.py:5303: SettingWithCopyWarning: \n",
      "A value is trying to be set on a copy of a slice from a DataFrame.\n",
      "Try using .loc[row_indexer,col_indexer] = value instead\n",
      "\n",
      "See the caveats in the documentation: https://pandas.pydata.org/pandas-docs/stable/user_guide/indexing.html#returning-a-view-versus-a-copy\n",
      "  self[name] = value\n"
     ]
    }
   ],
   "source": [
    "df_zillow_drop_schoolrating.home_type = df_zillow_drop_schoolrating.home_type.apply(trim_hometype)\n",
    "df_zillow_drop_schoolrating = df_zillow_drop_schoolrating[df_zillow_drop_schoolrating.home_type.notna()]"
   ]
  },
  {
   "cell_type": "code",
   "execution_count": 211,
   "metadata": {},
   "outputs": [
    {
     "name": "stdout",
     "output_type": "stream",
     "text": [
      "<class 'pandas.core.frame.DataFrame'>\n",
      "Int64Index: 3153 entries, 0 to 3932\n",
      "Data columns (total 20 columns):\n",
      " #   Column         Non-Null Count  Dtype  \n",
      "---  ------         --------------  -----  \n",
      " 0   address        3153 non-null   object \n",
      " 1   links          3153 non-null   object \n",
      " 2   num_bedroom    3153 non-null   float64\n",
      " 3   num_bathroom   3153 non-null   float64\n",
      " 4   basement       2065 non-null   object \n",
      " 5   flooring       2097 non-null   object \n",
      " 6   heating        2996 non-null   object \n",
      " 7   cooling        1339 non-null   object \n",
      " 8   livable_area   3153 non-null   float64\n",
      " 9   num_parking    1421 non-null   float64\n",
      " 10  num_garage     2774 non-null   float64\n",
      " 11  lot_size       3153 non-null   float64\n",
      " 12  home_type      3153 non-null   object \n",
      " 13  roof           2899 non-null   object \n",
      " 14  year_built     3044 non-null   object \n",
      " 15  year_remodel   452 non-null    object \n",
      " 16  school_rating  3153 non-null   int32  \n",
      " 17  latitude       3153 non-null   float64\n",
      " 18  longitude      3153 non-null   float64\n",
      " 19  prices         3153 non-null   float64\n",
      "dtypes: float64(9), int32(1), object(10)\n",
      "memory usage: 505.0+ KB\n"
     ]
    }
   ],
   "source": [
    "df_zillow_drop_schoolrating.info()"
   ]
  },
  {
   "cell_type": "code",
   "execution_count": 215,
   "metadata": {},
   "outputs": [],
   "source": [
    "def trim_roof(s):\n",
    "    if isinstance(s, str):\n",
    "        if 'metal' in s.lower():\n",
    "            return 'metal'\n",
    "        elif 'asphalt' in s.lower():\n",
    "            return 'asphalt_compisition'\n",
    "        elif 'comp' in s.lower():\n",
    "            return 'asphalt_compisition'\n",
    "        elif 'tile' in s.lower():\n",
    "            return 'tile_slate'\n",
    "        elif 'slate' in s.lower():\n",
    "            return 'tile_slate'\n",
    "        elif 'wood' in s.lower():\n",
    "            return 'wood_cedar'\n",
    "        elif 'cedar' in s.lower():\n",
    "            return 'wood_cedar'\n",
    "        elif 'rubber' in s.lower():\n",
    "            return 'rubber'\n",
    "        else:\n",
    "            return 'other'\n",
    "    else:\n",
    "        return 'unknown'"
   ]
  },
  {
   "cell_type": "code",
   "execution_count": 216,
   "metadata": {},
   "outputs": [
    {
     "name": "stderr",
     "output_type": "stream",
     "text": [
      "C:\\Users\\Jun\\AppData\\Local\\Continuum\\anaconda3\\lib\\site-packages\\ipykernel_launcher.py:1: SettingWithCopyWarning: \n",
      "A value is trying to be set on a copy of a slice from a DataFrame.\n",
      "Try using .loc[row_indexer,col_indexer] = value instead\n",
      "\n",
      "See the caveats in the documentation: https://pandas.pydata.org/pandas-docs/stable/user_guide/indexing.html#returning-a-view-versus-a-copy\n",
      "  \"\"\"Entry point for launching an IPython kernel.\n"
     ]
    }
   ],
   "source": [
    "df_zillow_drop_schoolrating['roof'] = df_zillow_drop_schoolrating.roof.apply(trim_roof)"
   ]
  },
  {
   "cell_type": "code",
   "execution_count": 219,
   "metadata": {},
   "outputs": [
    {
     "name": "stderr",
     "output_type": "stream",
     "text": [
      "C:\\Users\\Jun\\AppData\\Local\\Continuum\\anaconda3\\lib\\site-packages\\pandas\\core\\generic.py:6245: SettingWithCopyWarning: \n",
      "A value is trying to be set on a copy of a slice from a DataFrame\n",
      "\n",
      "See the caveats in the documentation: https://pandas.pydata.org/pandas-docs/stable/user_guide/indexing.html#returning-a-view-versus-a-copy\n",
      "  self._update_inplace(new_data)\n"
     ]
    }
   ],
   "source": [
    "# fill number of parking and number of garage with median value\n",
    "\n",
    "garage_median = df_zillow_drop_schoolrating.num_garage.median()\n",
    "df_zillow_drop_schoolrating.num_garage.fillna(garage_median, inplace=True)\n",
    "parking_median = df_zillow_drop_schoolrating.num_parking.median()\n",
    "df_zillow_drop_schoolrating.num_parking.fillna(parking_median, inplace=True)"
   ]
  },
  {
   "cell_type": "code",
   "execution_count": 229,
   "metadata": {},
   "outputs": [
    {
     "data": {
      "text/html": [
       "<div>\n",
       "<style scoped>\n",
       "    .dataframe tbody tr th:only-of-type {\n",
       "        vertical-align: middle;\n",
       "    }\n",
       "\n",
       "    .dataframe tbody tr th {\n",
       "        vertical-align: top;\n",
       "    }\n",
       "\n",
       "    .dataframe thead th {\n",
       "        text-align: right;\n",
       "    }\n",
       "</style>\n",
       "<table border=\"1\" class=\"dataframe\">\n",
       "  <thead>\n",
       "    <tr style=\"text-align: right;\">\n",
       "      <th></th>\n",
       "      <th>address</th>\n",
       "      <th>links</th>\n",
       "      <th>num_bedroom</th>\n",
       "      <th>num_bathroom</th>\n",
       "      <th>basement</th>\n",
       "      <th>flooring</th>\n",
       "      <th>heating</th>\n",
       "      <th>cooling</th>\n",
       "      <th>livable_area</th>\n",
       "      <th>num_parking</th>\n",
       "      <th>num_garage</th>\n",
       "      <th>lot_size</th>\n",
       "      <th>home_type</th>\n",
       "      <th>roof</th>\n",
       "      <th>year_built</th>\n",
       "      <th>year_remodel</th>\n",
       "      <th>school_rating</th>\n",
       "      <th>latitude</th>\n",
       "      <th>longitude</th>\n",
       "      <th>prices</th>\n",
       "    </tr>\n",
       "  </thead>\n",
       "  <tbody>\n",
       "    <tr>\n",
       "      <th>0</th>\n",
       "      <td>308 S 53rd St, Lincoln, NE 68510</td>\n",
       "      <td>https://www.zillow.com/homedetails/308-S-53rd-...</td>\n",
       "      <td>3.0</td>\n",
       "      <td>2.0</td>\n",
       "      <td>None</td>\n",
       "      <td>Carpet, Hardwood</td>\n",
       "      <td>[Heating features, Forced air, Gas]</td>\n",
       "      <td>Central Air</td>\n",
       "      <td>1320.0</td>\n",
       "      <td>1.0</td>\n",
       "      <td>1.0</td>\n",
       "      <td>8276.0</td>\n",
       "      <td>single_family</td>\n",
       "      <td>other</td>\n",
       "      <td>1958</td>\n",
       "      <td>NaN</td>\n",
       "      <td>7</td>\n",
       "      <td>40.811314</td>\n",
       "      <td>-96.647384</td>\n",
       "      <td>169900.0</td>\n",
       "    </tr>\n",
       "    <tr>\n",
       "      <th>1</th>\n",
       "      <td>1262 S 22nd St, Lincoln, NE 68502</td>\n",
       "      <td>https://www.zillow.com/homedetails/1262-S-22nd...</td>\n",
       "      <td>3.0</td>\n",
       "      <td>2.0</td>\n",
       "      <td>Yes</td>\n",
       "      <td>NaN</td>\n",
       "      <td>[Heating features, Forced air, Gas]</td>\n",
       "      <td>Central Air</td>\n",
       "      <td>1728.0</td>\n",
       "      <td>1.0</td>\n",
       "      <td>1.0</td>\n",
       "      <td>6969.0</td>\n",
       "      <td>single_family</td>\n",
       "      <td>asphalt_compisition</td>\n",
       "      <td>1910</td>\n",
       "      <td>NaN</td>\n",
       "      <td>3</td>\n",
       "      <td>40.800304</td>\n",
       "      <td>-96.688903</td>\n",
       "      <td>150000.0</td>\n",
       "    </tr>\n",
       "    <tr>\n",
       "      <th>2</th>\n",
       "      <td>5236 Pioneers Blvd, Lincoln, NE 68506</td>\n",
       "      <td>https://www.zillow.com/homedetails/5236-Pionee...</td>\n",
       "      <td>3.0</td>\n",
       "      <td>2.0</td>\n",
       "      <td>Partially finished</td>\n",
       "      <td>Hardwood, Linoleum / Vinyl</td>\n",
       "      <td>[Heating features, Gas, Forced air]</td>\n",
       "      <td>Central Air</td>\n",
       "      <td>1604.0</td>\n",
       "      <td>2.0</td>\n",
       "      <td>1.0</td>\n",
       "      <td>7405.2</td>\n",
       "      <td>single_family</td>\n",
       "      <td>asphalt_compisition</td>\n",
       "      <td>1948</td>\n",
       "      <td>NaN</td>\n",
       "      <td>4</td>\n",
       "      <td>40.770038</td>\n",
       "      <td>-96.648379</td>\n",
       "      <td>175000.0</td>\n",
       "    </tr>\n",
       "    <tr>\n",
       "      <th>3</th>\n",
       "      <td>1530 Skyline Dr, Lincoln, NE 68506</td>\n",
       "      <td>https://www.zillow.com/homedetails/1530-Skylin...</td>\n",
       "      <td>2.0</td>\n",
       "      <td>3.0</td>\n",
       "      <td>Partially finished</td>\n",
       "      <td>NaN</td>\n",
       "      <td>[Heating features, Gas, Forced air]</td>\n",
       "      <td>Central Air</td>\n",
       "      <td>2124.0</td>\n",
       "      <td>2.0</td>\n",
       "      <td>2.0</td>\n",
       "      <td>11325.6</td>\n",
       "      <td>single_family</td>\n",
       "      <td>asphalt_compisition</td>\n",
       "      <td>1961</td>\n",
       "      <td>NaN</td>\n",
       "      <td>6</td>\n",
       "      <td>40.797557</td>\n",
       "      <td>-96.639582</td>\n",
       "      <td>287500.0</td>\n",
       "    </tr>\n",
       "    <tr>\n",
       "      <th>4</th>\n",
       "      <td>431 Redwood Dr, Lincoln, NE 68510</td>\n",
       "      <td>https://www.zillow.com/homedetails/431-Redwood...</td>\n",
       "      <td>4.0</td>\n",
       "      <td>3.0</td>\n",
       "      <td>Finished</td>\n",
       "      <td>Hardwood</td>\n",
       "      <td>[Heating features, Gas, Forced air]</td>\n",
       "      <td>Central Air</td>\n",
       "      <td>2229.0</td>\n",
       "      <td>2.0</td>\n",
       "      <td>2.0</td>\n",
       "      <td>10018.8</td>\n",
       "      <td>single_family</td>\n",
       "      <td>asphalt_compisition</td>\n",
       "      <td>1966</td>\n",
       "      <td>NaN</td>\n",
       "      <td>8</td>\n",
       "      <td>40.808858</td>\n",
       "      <td>-96.610494</td>\n",
       "      <td>259900.0</td>\n",
       "    </tr>\n",
       "  </tbody>\n",
       "</table>\n",
       "</div>"
      ],
      "text/plain": [
       "                                   address  \\\n",
       "0        308 S 53rd St, Lincoln, NE 68510    \n",
       "1       1262 S 22nd St, Lincoln, NE 68502    \n",
       "2   5236 Pioneers Blvd, Lincoln, NE 68506    \n",
       "3      1530 Skyline Dr, Lincoln, NE 68506    \n",
       "4       431 Redwood Dr, Lincoln, NE 68510    \n",
       "\n",
       "                                               links  num_bedroom  \\\n",
       "0  https://www.zillow.com/homedetails/308-S-53rd-...          3.0   \n",
       "1  https://www.zillow.com/homedetails/1262-S-22nd...          3.0   \n",
       "2  https://www.zillow.com/homedetails/5236-Pionee...          3.0   \n",
       "3  https://www.zillow.com/homedetails/1530-Skylin...          2.0   \n",
       "4  https://www.zillow.com/homedetails/431-Redwood...          4.0   \n",
       "\n",
       "   num_bathroom            basement                    flooring  \\\n",
       "0           2.0                None            Carpet, Hardwood   \n",
       "1           2.0                 Yes                         NaN   \n",
       "2           2.0  Partially finished  Hardwood, Linoleum / Vinyl   \n",
       "3           3.0  Partially finished                         NaN   \n",
       "4           3.0            Finished                    Hardwood   \n",
       "\n",
       "                               heating      cooling  livable_area  \\\n",
       "0  [Heating features, Forced air, Gas]  Central Air        1320.0   \n",
       "1  [Heating features, Forced air, Gas]  Central Air        1728.0   \n",
       "2  [Heating features, Gas, Forced air]  Central Air        1604.0   \n",
       "3  [Heating features, Gas, Forced air]  Central Air        2124.0   \n",
       "4  [Heating features, Gas, Forced air]  Central Air        2229.0   \n",
       "\n",
       "   num_parking  num_garage  lot_size      home_type                 roof  \\\n",
       "0          1.0         1.0    8276.0  single_family                other   \n",
       "1          1.0         1.0    6969.0  single_family  asphalt_compisition   \n",
       "2          2.0         1.0    7405.2  single_family  asphalt_compisition   \n",
       "3          2.0         2.0   11325.6  single_family  asphalt_compisition   \n",
       "4          2.0         2.0   10018.8  single_family  asphalt_compisition   \n",
       "\n",
       "  year_built year_remodel  school_rating   latitude  longitude    prices  \n",
       "0       1958          NaN              7  40.811314 -96.647384  169900.0  \n",
       "1       1910          NaN              3  40.800304 -96.688903  150000.0  \n",
       "2       1948          NaN              4  40.770038 -96.648379  175000.0  \n",
       "3       1961          NaN              6  40.797557 -96.639582  287500.0  \n",
       "4       1966          NaN              8  40.808858 -96.610494  259900.0  "
      ]
     },
     "execution_count": 229,
     "metadata": {},
     "output_type": "execute_result"
    }
   ],
   "source": [
    "df_zillow_drop_schoolrating.head()"
   ]
  },
  {
   "cell_type": "code",
   "execution_count": 234,
   "metadata": {},
   "outputs": [
    {
     "data": {
      "text/plain": [
       "Finished                                 629\n",
       "Partially finished                       597\n",
       "Yes                                      540\n",
       "Unfinished                               169\n",
       "None                                      71\n",
       "Full                                      19\n",
       "Fully Finished, Daylight                   8\n",
       "Fully Finished                             7\n",
       "Partial                                    7\n",
       "Daylight                                   3\n",
       "Partly Finished, Partial                   2\n",
       "Full, Drain Tiled, Sump Pump               1\n",
       "Partially Finished                         1\n",
       "Living Room                                1\n",
       "PARTIAL, CRAWL SPACE, PARTLY FINISHED      1\n",
       "Pour, Partial                              1\n",
       "Full, Fully Finished                       1\n",
       "Full, Partly Finished                      1\n",
       "Crawl                                      1\n",
       "Finished (Livable)                         1\n",
       "Full, Unfinished                           1\n",
       "Slab                                       1\n",
       "Full, Drain Tiled, Fully Finished          1\n",
       "Fully Finished, Partially Finished         1\n",
       "Name: basement, dtype: int64"
      ]
     },
     "execution_count": 234,
     "metadata": {},
     "output_type": "execute_result"
    }
   ],
   "source": [
    "df_zillow_drop_schoolrating.basement.value_counts()"
   ]
  },
  {
   "cell_type": "code",
   "execution_count": 236,
   "metadata": {},
   "outputs": [],
   "source": [
    "def treat_basement(s):\n",
    "    if isinstance(s, str):\n",
    "        if 'none' in s.lower():\n",
    "            return 'none'\n",
    "        elif 'part' in s.lower():\n",
    "            return 'partially_finished'\n",
    "        elif 'crawl' in s.lower():\n",
    "            return 'partially_finished'\n",
    "        elif 'unfinished' in s.lower():\n",
    "            return 'unfinished'\n",
    "        elif 'full' in s.lower():\n",
    "            return 'finished'\n",
    "        elif 'finished' in s.lower():\n",
    "            return 'finished'\n",
    "        elif 'yes' in s.lower():\n",
    "            return 'finished'\n",
    "        else:\n",
    "            return 'other'\n",
    "    else:\n",
    "        return 'unknown'"
   ]
  },
  {
   "cell_type": "code",
   "execution_count": 238,
   "metadata": {},
   "outputs": [
    {
     "name": "stderr",
     "output_type": "stream",
     "text": [
      "C:\\Users\\Jun\\AppData\\Local\\Continuum\\anaconda3\\lib\\site-packages\\pandas\\core\\generic.py:5303: SettingWithCopyWarning: \n",
      "A value is trying to be set on a copy of a slice from a DataFrame.\n",
      "Try using .loc[row_indexer,col_indexer] = value instead\n",
      "\n",
      "See the caveats in the documentation: https://pandas.pydata.org/pandas-docs/stable/user_guide/indexing.html#returning-a-view-versus-a-copy\n",
      "  self[name] = value\n"
     ]
    }
   ],
   "source": [
    "df_zillow_drop_schoolrating.basement = df_zillow_drop_schoolrating.basement.apply(treat_basement)"
   ]
  },
  {
   "cell_type": "code",
   "execution_count": 241,
   "metadata": {},
   "outputs": [
    {
     "data": {
      "text/plain": [
       "Hardwood                                                        306\n",
       "Carpet, Hardwood, Tile                                          189\n",
       "Tile, Carpet, Hardwood                                          141\n",
       "Carpet, Linoleum / Vinyl                                        134\n",
       "Laminate                                                        118\n",
       "                                                               ... \n",
       "Carpet, Concrete, Hardwood, Slate, Tile                           1\n",
       "Tile, Carpet, Concrete, Hardwood, Laminate, Linoleum / Vinyl      1\n",
       "Carpet, Concrete, Linoleum / Vinyl, Tile, Other                   1\n",
       "Other, Carpet, Hardwood, Slate                                    1\n",
       "Tile, Other, Carpet, Laminate                                     1\n",
       "Name: flooring, Length: 121, dtype: int64"
      ]
     },
     "execution_count": 241,
     "metadata": {},
     "output_type": "execute_result"
    }
   ],
   "source": [
    "df_zillow_drop_schoolrating.flooring.value_counts()"
   ]
  },
  {
   "cell_type": "code",
   "execution_count": 244,
   "metadata": {},
   "outputs": [
    {
     "name": "stderr",
     "output_type": "stream",
     "text": [
      "C:\\Users\\Jun\\AppData\\Local\\Continuum\\anaconda3\\lib\\site-packages\\ipykernel_launcher.py:1: SettingWithCopyWarning: \n",
      "A value is trying to be set on a copy of a slice from a DataFrame.\n",
      "Try using .loc[row_indexer,col_indexer] = value instead\n",
      "\n",
      "See the caveats in the documentation: https://pandas.pydata.org/pandas-docs/stable/user_guide/indexing.html#returning-a-view-versus-a-copy\n",
      "  \"\"\"Entry point for launching an IPython kernel.\n"
     ]
    }
   ],
   "source": [
    "df_zillow_drop_schoolrating['floor_has_hardwood'] = df_zillow_drop_schoolrating.flooring.apply(lambda x: 1 if isinstance(x, str) and 'hardwood' in x.lower() else 0)"
   ]
  },
  {
   "cell_type": "code",
   "execution_count": 247,
   "metadata": {},
   "outputs": [
    {
     "name": "stderr",
     "output_type": "stream",
     "text": [
      "C:\\Users\\Jun\\AppData\\Local\\Continuum\\anaconda3\\lib\\site-packages\\ipykernel_launcher.py:1: SettingWithCopyWarning: \n",
      "A value is trying to be set on a copy of a slice from a DataFrame.\n",
      "Try using .loc[row_indexer,col_indexer] = value instead\n",
      "\n",
      "See the caveats in the documentation: https://pandas.pydata.org/pandas-docs/stable/user_guide/indexing.html#returning-a-view-versus-a-copy\n",
      "  \"\"\"Entry point for launching an IPython kernel.\n",
      "C:\\Users\\Jun\\AppData\\Local\\Continuum\\anaconda3\\lib\\site-packages\\ipykernel_launcher.py:2: SettingWithCopyWarning: \n",
      "A value is trying to be set on a copy of a slice from a DataFrame.\n",
      "Try using .loc[row_indexer,col_indexer] = value instead\n",
      "\n",
      "See the caveats in the documentation: https://pandas.pydata.org/pandas-docs/stable/user_guide/indexing.html#returning-a-view-versus-a-copy\n",
      "  \n",
      "C:\\Users\\Jun\\AppData\\Local\\Continuum\\anaconda3\\lib\\site-packages\\ipykernel_launcher.py:3: SettingWithCopyWarning: \n",
      "A value is trying to be set on a copy of a slice from a DataFrame.\n",
      "Try using .loc[row_indexer,col_indexer] = value instead\n",
      "\n",
      "See the caveats in the documentation: https://pandas.pydata.org/pandas-docs/stable/user_guide/indexing.html#returning-a-view-versus-a-copy\n",
      "  This is separate from the ipykernel package so we can avoid doing imports until\n",
      "C:\\Users\\Jun\\AppData\\Local\\Continuum\\anaconda3\\lib\\site-packages\\ipykernel_launcher.py:4: SettingWithCopyWarning: \n",
      "A value is trying to be set on a copy of a slice from a DataFrame.\n",
      "Try using .loc[row_indexer,col_indexer] = value instead\n",
      "\n",
      "See the caveats in the documentation: https://pandas.pydata.org/pandas-docs/stable/user_guide/indexing.html#returning-a-view-versus-a-copy\n",
      "  after removing the cwd from sys.path.\n",
      "C:\\Users\\Jun\\AppData\\Local\\Continuum\\anaconda3\\lib\\site-packages\\ipykernel_launcher.py:5: SettingWithCopyWarning: \n",
      "A value is trying to be set on a copy of a slice from a DataFrame.\n",
      "Try using .loc[row_indexer,col_indexer] = value instead\n",
      "\n",
      "See the caveats in the documentation: https://pandas.pydata.org/pandas-docs/stable/user_guide/indexing.html#returning-a-view-versus-a-copy\n",
      "  \"\"\"\n"
     ]
    }
   ],
   "source": [
    "df_zillow_drop_schoolrating['floor_has_tile'] = df_zillow_drop_schoolrating.flooring.apply(lambda x: 1 if isinstance(x, str) and 'tile' in x.lower() else 0)\n",
    "df_zillow_drop_schoolrating['floor_has_laminate'] = df_zillow_drop_schoolrating.flooring.apply(lambda x: 1 if isinstance(x, str) and 'laminate' in x.lower() else 0)\n",
    "df_zillow_drop_schoolrating['floor_has_carpet'] = df_zillow_drop_schoolrating.flooring.apply(lambda x: 1 if isinstance(x, str) and 'carpet' in x.lower() else 0)\n",
    "df_zillow_drop_schoolrating['floor_has_vinyl'] = df_zillow_drop_schoolrating.flooring.apply(lambda x: 1 if isinstance(x, str) and 'vinyl' in x.lower() else 0)\n",
    "df_zillow_drop_schoolrating['floor_unkown'] = df_zillow_drop_schoolrating.flooring.apply(lambda x: 0 if isinstance(x, str) else 1)"
   ]
  },
  {
   "cell_type": "code",
   "execution_count": 250,
   "metadata": {},
   "outputs": [
    {
     "name": "stderr",
     "output_type": "stream",
     "text": [
      "C:\\Users\\Jun\\AppData\\Local\\Continuum\\anaconda3\\lib\\site-packages\\pandas\\core\\frame.py:3997: SettingWithCopyWarning: \n",
      "A value is trying to be set on a copy of a slice from a DataFrame\n",
      "\n",
      "See the caveats in the documentation: https://pandas.pydata.org/pandas-docs/stable/user_guide/indexing.html#returning-a-view-versus-a-copy\n",
      "  errors=errors,\n"
     ]
    },
    {
     "data": {
      "text/html": [
       "<div>\n",
       "<style scoped>\n",
       "    .dataframe tbody tr th:only-of-type {\n",
       "        vertical-align: middle;\n",
       "    }\n",
       "\n",
       "    .dataframe tbody tr th {\n",
       "        vertical-align: top;\n",
       "    }\n",
       "\n",
       "    .dataframe thead th {\n",
       "        text-align: right;\n",
       "    }\n",
       "</style>\n",
       "<table border=\"1\" class=\"dataframe\">\n",
       "  <thead>\n",
       "    <tr style=\"text-align: right;\">\n",
       "      <th></th>\n",
       "      <th>num_bedroom</th>\n",
       "      <th>num_bathroom</th>\n",
       "      <th>basement</th>\n",
       "      <th>heating</th>\n",
       "      <th>cooling</th>\n",
       "      <th>livable_area</th>\n",
       "      <th>num_parking</th>\n",
       "      <th>num_garage</th>\n",
       "      <th>lot_size</th>\n",
       "      <th>home_type</th>\n",
       "      <th>...</th>\n",
       "      <th>school_rating</th>\n",
       "      <th>latitude</th>\n",
       "      <th>longitude</th>\n",
       "      <th>prices</th>\n",
       "      <th>floor_has_hardwood</th>\n",
       "      <th>floor_has_tile</th>\n",
       "      <th>floor_has_laminate</th>\n",
       "      <th>floor_has_carpet</th>\n",
       "      <th>floor_has_vinyl</th>\n",
       "      <th>floor_unkown</th>\n",
       "    </tr>\n",
       "  </thead>\n",
       "  <tbody>\n",
       "    <tr>\n",
       "      <th>0</th>\n",
       "      <td>3.0</td>\n",
       "      <td>2.0</td>\n",
       "      <td>none</td>\n",
       "      <td>[Heating features, Forced air, Gas]</td>\n",
       "      <td>Central Air</td>\n",
       "      <td>1320.0</td>\n",
       "      <td>1.0</td>\n",
       "      <td>1.0</td>\n",
       "      <td>8276.0</td>\n",
       "      <td>single_family</td>\n",
       "      <td>...</td>\n",
       "      <td>7</td>\n",
       "      <td>40.811314</td>\n",
       "      <td>-96.647384</td>\n",
       "      <td>169900.0</td>\n",
       "      <td>1</td>\n",
       "      <td>0</td>\n",
       "      <td>0</td>\n",
       "      <td>1</td>\n",
       "      <td>0</td>\n",
       "      <td>0</td>\n",
       "    </tr>\n",
       "    <tr>\n",
       "      <th>1</th>\n",
       "      <td>3.0</td>\n",
       "      <td>2.0</td>\n",
       "      <td>finished</td>\n",
       "      <td>[Heating features, Forced air, Gas]</td>\n",
       "      <td>Central Air</td>\n",
       "      <td>1728.0</td>\n",
       "      <td>1.0</td>\n",
       "      <td>1.0</td>\n",
       "      <td>6969.0</td>\n",
       "      <td>single_family</td>\n",
       "      <td>...</td>\n",
       "      <td>3</td>\n",
       "      <td>40.800304</td>\n",
       "      <td>-96.688903</td>\n",
       "      <td>150000.0</td>\n",
       "      <td>0</td>\n",
       "      <td>0</td>\n",
       "      <td>0</td>\n",
       "      <td>0</td>\n",
       "      <td>0</td>\n",
       "      <td>1</td>\n",
       "    </tr>\n",
       "    <tr>\n",
       "      <th>2</th>\n",
       "      <td>3.0</td>\n",
       "      <td>2.0</td>\n",
       "      <td>partially_finished</td>\n",
       "      <td>[Heating features, Gas, Forced air]</td>\n",
       "      <td>Central Air</td>\n",
       "      <td>1604.0</td>\n",
       "      <td>2.0</td>\n",
       "      <td>1.0</td>\n",
       "      <td>7405.2</td>\n",
       "      <td>single_family</td>\n",
       "      <td>...</td>\n",
       "      <td>4</td>\n",
       "      <td>40.770038</td>\n",
       "      <td>-96.648379</td>\n",
       "      <td>175000.0</td>\n",
       "      <td>1</td>\n",
       "      <td>0</td>\n",
       "      <td>0</td>\n",
       "      <td>0</td>\n",
       "      <td>1</td>\n",
       "      <td>0</td>\n",
       "    </tr>\n",
       "    <tr>\n",
       "      <th>3</th>\n",
       "      <td>2.0</td>\n",
       "      <td>3.0</td>\n",
       "      <td>partially_finished</td>\n",
       "      <td>[Heating features, Gas, Forced air]</td>\n",
       "      <td>Central Air</td>\n",
       "      <td>2124.0</td>\n",
       "      <td>2.0</td>\n",
       "      <td>2.0</td>\n",
       "      <td>11325.6</td>\n",
       "      <td>single_family</td>\n",
       "      <td>...</td>\n",
       "      <td>6</td>\n",
       "      <td>40.797557</td>\n",
       "      <td>-96.639582</td>\n",
       "      <td>287500.0</td>\n",
       "      <td>0</td>\n",
       "      <td>0</td>\n",
       "      <td>0</td>\n",
       "      <td>0</td>\n",
       "      <td>0</td>\n",
       "      <td>1</td>\n",
       "    </tr>\n",
       "    <tr>\n",
       "      <th>4</th>\n",
       "      <td>4.0</td>\n",
       "      <td>3.0</td>\n",
       "      <td>finished</td>\n",
       "      <td>[Heating features, Gas, Forced air]</td>\n",
       "      <td>Central Air</td>\n",
       "      <td>2229.0</td>\n",
       "      <td>2.0</td>\n",
       "      <td>2.0</td>\n",
       "      <td>10018.8</td>\n",
       "      <td>single_family</td>\n",
       "      <td>...</td>\n",
       "      <td>8</td>\n",
       "      <td>40.808858</td>\n",
       "      <td>-96.610494</td>\n",
       "      <td>259900.0</td>\n",
       "      <td>1</td>\n",
       "      <td>0</td>\n",
       "      <td>0</td>\n",
       "      <td>0</td>\n",
       "      <td>0</td>\n",
       "      <td>0</td>\n",
       "    </tr>\n",
       "  </tbody>\n",
       "</table>\n",
       "<p>5 rows × 23 columns</p>\n",
       "</div>"
      ],
      "text/plain": [
       "   num_bedroom  num_bathroom            basement  \\\n",
       "0          3.0           2.0                none   \n",
       "1          3.0           2.0            finished   \n",
       "2          3.0           2.0  partially_finished   \n",
       "3          2.0           3.0  partially_finished   \n",
       "4          4.0           3.0            finished   \n",
       "\n",
       "                               heating      cooling  livable_area  \\\n",
       "0  [Heating features, Forced air, Gas]  Central Air        1320.0   \n",
       "1  [Heating features, Forced air, Gas]  Central Air        1728.0   \n",
       "2  [Heating features, Gas, Forced air]  Central Air        1604.0   \n",
       "3  [Heating features, Gas, Forced air]  Central Air        2124.0   \n",
       "4  [Heating features, Gas, Forced air]  Central Air        2229.0   \n",
       "\n",
       "   num_parking  num_garage  lot_size      home_type  ... school_rating  \\\n",
       "0          1.0         1.0    8276.0  single_family  ...             7   \n",
       "1          1.0         1.0    6969.0  single_family  ...             3   \n",
       "2          2.0         1.0    7405.2  single_family  ...             4   \n",
       "3          2.0         2.0   11325.6  single_family  ...             6   \n",
       "4          2.0         2.0   10018.8  single_family  ...             8   \n",
       "\n",
       "    latitude  longitude    prices  floor_has_hardwood  floor_has_tile  \\\n",
       "0  40.811314 -96.647384  169900.0                   1               0   \n",
       "1  40.800304 -96.688903  150000.0                   0               0   \n",
       "2  40.770038 -96.648379  175000.0                   1               0   \n",
       "3  40.797557 -96.639582  287500.0                   0               0   \n",
       "4  40.808858 -96.610494  259900.0                   1               0   \n",
       "\n",
       "   floor_has_laminate  floor_has_carpet  floor_has_vinyl  floor_unkown  \n",
       "0                   0                 1                0             0  \n",
       "1                   0                 0                0             1  \n",
       "2                   0                 0                1             0  \n",
       "3                   0                 0                0             1  \n",
       "4                   0                 0                0             0  \n",
       "\n",
       "[5 rows x 23 columns]"
      ]
     },
     "execution_count": 250,
     "metadata": {},
     "output_type": "execute_result"
    }
   ],
   "source": [
    "df_zillow_drop_schoolrating.drop(columns=['address', 'links', 'flooring'], inplace=True)\n",
    "df_zillow_drop_schoolrating.head()"
   ]
  },
  {
   "cell_type": "code",
   "execution_count": 264,
   "metadata": {},
   "outputs": [
    {
     "name": "stderr",
     "output_type": "stream",
     "text": [
      "C:\\Users\\Jun\\AppData\\Local\\Continuum\\anaconda3\\lib\\site-packages\\pandas\\core\\generic.py:5303: SettingWithCopyWarning: \n",
      "A value is trying to be set on a copy of a slice from a DataFrame.\n",
      "Try using .loc[row_indexer,col_indexer] = value instead\n",
      "\n",
      "See the caveats in the documentation: https://pandas.pydata.org/pandas-docs/stable/user_guide/indexing.html#returning-a-view-versus-a-copy\n",
      "  self[name] = value\n"
     ]
    }
   ],
   "source": [
    "df_has_year.year_built = df_has_year.year_built.astype(int)"
   ]
  },
  {
   "cell_type": "code",
   "execution_count": 266,
   "metadata": {},
   "outputs": [
    {
     "name": "stderr",
     "output_type": "stream",
     "text": [
      "C:\\Users\\Jun\\AppData\\Local\\Continuum\\anaconda3\\lib\\site-packages\\pandas\\core\\generic.py:5303: SettingWithCopyWarning: \n",
      "A value is trying to be set on a copy of a slice from a DataFrame.\n",
      "Try using .loc[row_indexer,col_indexer] = value instead\n",
      "\n",
      "See the caveats in the documentation: https://pandas.pydata.org/pandas-docs/stable/user_guide/indexing.html#returning-a-view-versus-a-copy\n",
      "  self[name] = value\n"
     ]
    }
   ],
   "source": [
    "df_has_year.year_remodel = df_has_year.year_remodel.astype(float)"
   ]
  },
  {
   "cell_type": "code",
   "execution_count": 255,
   "metadata": {},
   "outputs": [],
   "source": [
    "df_has_year = df_zillow_drop_schoolrating[df_zillow_drop_schoolrating.year_built.notna()]"
   ]
  },
  {
   "cell_type": "code",
   "execution_count": 259,
   "metadata": {},
   "outputs": [],
   "source": [
    "ddf_has_year.reset_index(drop=True, inplace=True)"
   ]
  },
  {
   "cell_type": "code",
   "execution_count": 271,
   "metadata": {},
   "outputs": [
    {
     "name": "stderr",
     "output_type": "stream",
     "text": [
      "C:\\Users\\Jun\\AppData\\Local\\Continuum\\anaconda3\\lib\\site-packages\\pandas\\core\\indexing.py:966: SettingWithCopyWarning: \n",
      "A value is trying to be set on a copy of a slice from a DataFrame.\n",
      "Try using .loc[row_indexer,col_indexer] = value instead\n",
      "\n",
      "See the caveats in the documentation: https://pandas.pydata.org/pandas-docs/stable/user_guide/indexing.html#returning-a-view-versus-a-copy\n",
      "  self.obj[item] = s\n"
     ]
    }
   ],
   "source": [
    "for i in range(df_has_year.shape[0]):\n",
    "    if np.isnan(df_has_year.iloc[i, 12]):\n",
    "        df_has_year.iloc[i, 12] = df_has_year.iloc[i, 11]\n",
    "    elif df_has_year.iloc[i, 11] > df_has_year.iloc[i, 12]:\n",
    "        df_has_year.iloc[i, 12] = df_has_year.iloc[i, 11]"
   ]
  },
  {
   "cell_type": "code",
   "execution_count": 273,
   "metadata": {},
   "outputs": [
    {
     "name": "stderr",
     "output_type": "stream",
     "text": [
      "C:\\Users\\Jun\\AppData\\Local\\Continuum\\anaconda3\\lib\\site-packages\\pandas\\core\\generic.py:5303: SettingWithCopyWarning: \n",
      "A value is trying to be set on a copy of a slice from a DataFrame.\n",
      "Try using .loc[row_indexer,col_indexer] = value instead\n",
      "\n",
      "See the caveats in the documentation: https://pandas.pydata.org/pandas-docs/stable/user_guide/indexing.html#returning-a-view-versus-a-copy\n",
      "  self[name] = value\n"
     ]
    }
   ],
   "source": [
    "df_has_year.year_remodel = df_has_year.year_remodel.astype('int')"
   ]
  },
  {
   "cell_type": "code",
   "execution_count": 274,
   "metadata": {},
   "outputs": [
    {
     "name": "stdout",
     "output_type": "stream",
     "text": [
      "<class 'pandas.core.frame.DataFrame'>\n",
      "RangeIndex: 3044 entries, 0 to 3043\n",
      "Data columns (total 23 columns):\n",
      " #   Column              Non-Null Count  Dtype  \n",
      "---  ------              --------------  -----  \n",
      " 0   num_bedroom         3044 non-null   float64\n",
      " 1   num_bathroom        3044 non-null   float64\n",
      " 2   basement            3044 non-null   object \n",
      " 3   heating             2918 non-null   object \n",
      " 4   cooling             1307 non-null   object \n",
      " 5   livable_area        3044 non-null   float64\n",
      " 6   num_parking         3044 non-null   float64\n",
      " 7   num_garage          3044 non-null   float64\n",
      " 8   lot_size            3044 non-null   float64\n",
      " 9   home_type           3044 non-null   object \n",
      " 10  roof                3044 non-null   object \n",
      " 11  year_built          3044 non-null   int32  \n",
      " 12  year_remodel        3044 non-null   int32  \n",
      " 13  school_rating       3044 non-null   int32  \n",
      " 14  latitude            3044 non-null   float64\n",
      " 15  longitude           3044 non-null   float64\n",
      " 16  prices              3044 non-null   float64\n",
      " 17  floor_has_hardwood  3044 non-null   int64  \n",
      " 18  floor_has_tile      3044 non-null   int64  \n",
      " 19  floor_has_laminate  3044 non-null   int64  \n",
      " 20  floor_has_carpet    3044 non-null   int64  \n",
      " 21  floor_has_vinyl     3044 non-null   int64  \n",
      " 22  floor_unkown        3044 non-null   int64  \n",
      "dtypes: float64(9), int32(3), int64(6), object(5)\n",
      "memory usage: 511.4+ KB\n"
     ]
    }
   ],
   "source": [
    "df_has_year.info()"
   ]
  },
  {
   "cell_type": "code",
   "execution_count": 275,
   "metadata": {},
   "outputs": [
    {
     "data": {
      "text/plain": [
       "Central Air                      1173\n",
       "Heat Pump                          46\n",
       "Central Air, Zoned                 35\n",
       "Window AC                          24\n",
       "Central Air, Heat Pump             23\n",
       "Central Air, Window AC             18\n",
       "Other                              11\n",
       "Central Air, Other                  4\n",
       "Central Air, Heat Pump, Other       2\n",
       "Heat Pump, Zoned                    1\n",
       "Window AC, Other                    1\n",
       "Central Air, Zoned, Other           1\n",
       "Name: cooling, dtype: int64"
      ]
     },
     "execution_count": 275,
     "metadata": {},
     "output_type": "execute_result"
    }
   ],
   "source": [
    "df_zillow_drop_schoolrating.cooling.value_counts()"
   ]
  },
  {
   "cell_type": "code",
   "execution_count": 276,
   "metadata": {},
   "outputs": [],
   "source": [
    "def treat_cooling(s):\n",
    "    if isinstance(s, str):\n",
    "        if 'central' in s.lower():\n",
    "            return 'central_air'\n",
    "        elif 'heat pump' in s.lower():\n",
    "            return 'central_air'\n",
    "        elif 'window' in s.lower():\n",
    "            return 'windown_ac'\n",
    "        else:\n",
    "            return 'other'\n",
    "    else:\n",
    "        return 'unknown'"
   ]
  },
  {
   "cell_type": "code",
   "execution_count": 277,
   "metadata": {},
   "outputs": [
    {
     "name": "stderr",
     "output_type": "stream",
     "text": [
      "C:\\Users\\Jun\\AppData\\Local\\Continuum\\anaconda3\\lib\\site-packages\\pandas\\core\\generic.py:5303: SettingWithCopyWarning: \n",
      "A value is trying to be set on a copy of a slice from a DataFrame.\n",
      "Try using .loc[row_indexer,col_indexer] = value instead\n",
      "\n",
      "See the caveats in the documentation: https://pandas.pydata.org/pandas-docs/stable/user_guide/indexing.html#returning-a-view-versus-a-copy\n",
      "  self[name] = value\n"
     ]
    }
   ],
   "source": [
    "df_has_year.cooling = df_has_year.cooling.apply(treat_cooling)"
   ]
  },
  {
   "cell_type": "code",
   "execution_count": 278,
   "metadata": {},
   "outputs": [
    {
     "name": "stdout",
     "output_type": "stream",
     "text": [
      "<class 'pandas.core.frame.DataFrame'>\n",
      "RangeIndex: 3044 entries, 0 to 3043\n",
      "Data columns (total 23 columns):\n",
      " #   Column              Non-Null Count  Dtype  \n",
      "---  ------              --------------  -----  \n",
      " 0   num_bedroom         3044 non-null   float64\n",
      " 1   num_bathroom        3044 non-null   float64\n",
      " 2   basement            3044 non-null   object \n",
      " 3   heating             2918 non-null   object \n",
      " 4   cooling             3044 non-null   object \n",
      " 5   livable_area        3044 non-null   float64\n",
      " 6   num_parking         3044 non-null   float64\n",
      " 7   num_garage          3044 non-null   float64\n",
      " 8   lot_size            3044 non-null   float64\n",
      " 9   home_type           3044 non-null   object \n",
      " 10  roof                3044 non-null   object \n",
      " 11  year_built          3044 non-null   int32  \n",
      " 12  year_remodel        3044 non-null   int32  \n",
      " 13  school_rating       3044 non-null   int32  \n",
      " 14  latitude            3044 non-null   float64\n",
      " 15  longitude           3044 non-null   float64\n",
      " 16  prices              3044 non-null   float64\n",
      " 17  floor_has_hardwood  3044 non-null   int64  \n",
      " 18  floor_has_tile      3044 non-null   int64  \n",
      " 19  floor_has_laminate  3044 non-null   int64  \n",
      " 20  floor_has_carpet    3044 non-null   int64  \n",
      " 21  floor_has_vinyl     3044 non-null   int64  \n",
      " 22  floor_unkown        3044 non-null   int64  \n",
      "dtypes: float64(9), int32(3), int64(6), object(5)\n",
      "memory usage: 511.4+ KB\n"
     ]
    }
   ],
   "source": [
    "df_has_year.info()"
   ]
  },
  {
   "cell_type": "code",
   "execution_count": 281,
   "metadata": {},
   "outputs": [
    {
     "name": "stderr",
     "output_type": "stream",
     "text": [
      "C:\\Users\\Jun\\AppData\\Local\\Continuum\\anaconda3\\lib\\site-packages\\pandas\\core\\generic.py:5303: SettingWithCopyWarning: \n",
      "A value is trying to be set on a copy of a slice from a DataFrame.\n",
      "Try using .loc[row_indexer,col_indexer] = value instead\n",
      "\n",
      "See the caveats in the documentation: https://pandas.pydata.org/pandas-docs/stable/user_guide/indexing.html#returning-a-view-versus-a-copy\n",
      "  self[name] = value\n"
     ]
    }
   ],
   "source": [
    "df_has_year.heating = df_has_year.heating.apply(lambda x: ' '.join(x) if isinstance(x, list) else 'unknown')"
   ]
  },
  {
   "cell_type": "code",
   "execution_count": 282,
   "metadata": {},
   "outputs": [],
   "source": [
    "def treat_heat(s):\n",
    "    if 'gas' in s.lower():\n",
    "        return 'gas'\n",
    "    elif 'elect' in s.lower():\n",
    "        return 'electricity'\n",
    "    elif 'unknown' in s.lower():\n",
    "        return 'unknown'\n",
    "    else:\n",
    "        return 'other'"
   ]
  },
  {
   "cell_type": "code",
   "execution_count": 283,
   "metadata": {},
   "outputs": [
    {
     "name": "stderr",
     "output_type": "stream",
     "text": [
      "C:\\Users\\Jun\\AppData\\Local\\Continuum\\anaconda3\\lib\\site-packages\\pandas\\core\\generic.py:5303: SettingWithCopyWarning: \n",
      "A value is trying to be set on a copy of a slice from a DataFrame.\n",
      "Try using .loc[row_indexer,col_indexer] = value instead\n",
      "\n",
      "See the caveats in the documentation: https://pandas.pydata.org/pandas-docs/stable/user_guide/indexing.html#returning-a-view-versus-a-copy\n",
      "  self[name] = value\n"
     ]
    }
   ],
   "source": [
    "df_has_year.heating = df_has_year.heating.apply(treat_heat)"
   ]
  },
  {
   "cell_type": "code",
   "execution_count": 286,
   "metadata": {},
   "outputs": [
    {
     "data": {
      "text/plain": [
       "num_bedroom           0\n",
       "num_bathroom          0\n",
       "basement              0\n",
       "heating               0\n",
       "cooling               0\n",
       "livable_area          0\n",
       "num_parking           0\n",
       "num_garage            0\n",
       "lot_size              0\n",
       "home_type             0\n",
       "roof                  0\n",
       "year_built            0\n",
       "year_remodel          0\n",
       "school_rating         0\n",
       "latitude              0\n",
       "longitude             0\n",
       "prices                0\n",
       "floor_has_hardwood    0\n",
       "floor_has_tile        0\n",
       "floor_has_laminate    0\n",
       "floor_has_carpet      0\n",
       "floor_has_vinyl       0\n",
       "floor_unkown          0\n",
       "dtype: int64"
      ]
     },
     "execution_count": 286,
     "metadata": {},
     "output_type": "execute_result"
    }
   ],
   "source": [
    "# double check null values\n",
    "\n",
    "df_has_year.isna().sum()"
   ]
  },
  {
   "cell_type": "code",
   "execution_count": 290,
   "metadata": {},
   "outputs": [
    {
     "data": {
      "text/plain": [
       "['num_bedroom',\n",
       " 'num_bathroom',\n",
       " 'basement',\n",
       " 'heating',\n",
       " 'cooling',\n",
       " 'livable_area',\n",
       " 'num_parking',\n",
       " 'num_garage',\n",
       " 'lot_size',\n",
       " 'home_type',\n",
       " 'roof',\n",
       " 'year_built',\n",
       " 'year_remodel',\n",
       " 'school_rating',\n",
       " 'latitude',\n",
       " 'longitude',\n",
       " 'floor_has_hardwood',\n",
       " 'floor_has_tile',\n",
       " 'floor_has_laminate',\n",
       " 'floor_has_carpet',\n",
       " 'floor_has_vinyl',\n",
       " 'floor_unkown',\n",
       " 'prices']"
      ]
     },
     "execution_count": 290,
     "metadata": {},
     "output_type": "execute_result"
    }
   ],
   "source": [
    "new_columns = list(df_has_year.columns)\n",
    "new_columns.remove('prices')\n",
    "new_columns.append('prices')\n",
    "new_columns"
   ]
  },
  {
   "cell_type": "code",
   "execution_count": 291,
   "metadata": {},
   "outputs": [],
   "source": [
    "df_final = df_has_year[new_columns]"
   ]
  },
  {
   "cell_type": "code",
   "execution_count": 296,
   "metadata": {},
   "outputs": [],
   "source": [
    "target=df_final.prices.values\n",
    "df_todummy = df_final.iloc[:, :-1]"
   ]
  },
  {
   "cell_type": "code",
   "execution_count": 299,
   "metadata": {},
   "outputs": [],
   "source": [
    "df_dummy = pd.get_dummies(df_todummy)"
   ]
  },
  {
   "cell_type": "code",
   "execution_count": 300,
   "metadata": {},
   "outputs": [],
   "source": [
    "df_dummy['prices'] = target"
   ]
  },
  {
   "cell_type": "code",
   "execution_count": 301,
   "metadata": {},
   "outputs": [
    {
     "data": {
      "text/html": [
       "<div>\n",
       "<style scoped>\n",
       "    .dataframe tbody tr th:only-of-type {\n",
       "        vertical-align: middle;\n",
       "    }\n",
       "\n",
       "    .dataframe tbody tr th {\n",
       "        vertical-align: top;\n",
       "    }\n",
       "\n",
       "    .dataframe thead th {\n",
       "        text-align: right;\n",
       "    }\n",
       "</style>\n",
       "<table border=\"1\" class=\"dataframe\">\n",
       "  <thead>\n",
       "    <tr style=\"text-align: right;\">\n",
       "      <th></th>\n",
       "      <th>num_bedroom</th>\n",
       "      <th>num_bathroom</th>\n",
       "      <th>livable_area</th>\n",
       "      <th>num_parking</th>\n",
       "      <th>num_garage</th>\n",
       "      <th>lot_size</th>\n",
       "      <th>year_built</th>\n",
       "      <th>year_remodel</th>\n",
       "      <th>school_rating</th>\n",
       "      <th>latitude</th>\n",
       "      <th>...</th>\n",
       "      <th>home_type_single_family</th>\n",
       "      <th>home_type_townhouse</th>\n",
       "      <th>roof_asphalt_compisition</th>\n",
       "      <th>roof_metal</th>\n",
       "      <th>roof_other</th>\n",
       "      <th>roof_rubber</th>\n",
       "      <th>roof_tile_slate</th>\n",
       "      <th>roof_unknown</th>\n",
       "      <th>roof_wood_cedar</th>\n",
       "      <th>prices</th>\n",
       "    </tr>\n",
       "  </thead>\n",
       "  <tbody>\n",
       "    <tr>\n",
       "      <th>0</th>\n",
       "      <td>3.0</td>\n",
       "      <td>2.0</td>\n",
       "      <td>1320.0</td>\n",
       "      <td>1.0</td>\n",
       "      <td>1.0</td>\n",
       "      <td>8276.0</td>\n",
       "      <td>1958</td>\n",
       "      <td>1958</td>\n",
       "      <td>7</td>\n",
       "      <td>40.811314</td>\n",
       "      <td>...</td>\n",
       "      <td>1</td>\n",
       "      <td>0</td>\n",
       "      <td>0</td>\n",
       "      <td>0</td>\n",
       "      <td>1</td>\n",
       "      <td>0</td>\n",
       "      <td>0</td>\n",
       "      <td>0</td>\n",
       "      <td>0</td>\n",
       "      <td>169900.0</td>\n",
       "    </tr>\n",
       "    <tr>\n",
       "      <th>1</th>\n",
       "      <td>3.0</td>\n",
       "      <td>2.0</td>\n",
       "      <td>1728.0</td>\n",
       "      <td>1.0</td>\n",
       "      <td>1.0</td>\n",
       "      <td>6969.0</td>\n",
       "      <td>1910</td>\n",
       "      <td>1910</td>\n",
       "      <td>3</td>\n",
       "      <td>40.800304</td>\n",
       "      <td>...</td>\n",
       "      <td>1</td>\n",
       "      <td>0</td>\n",
       "      <td>1</td>\n",
       "      <td>0</td>\n",
       "      <td>0</td>\n",
       "      <td>0</td>\n",
       "      <td>0</td>\n",
       "      <td>0</td>\n",
       "      <td>0</td>\n",
       "      <td>150000.0</td>\n",
       "    </tr>\n",
       "    <tr>\n",
       "      <th>2</th>\n",
       "      <td>3.0</td>\n",
       "      <td>2.0</td>\n",
       "      <td>1604.0</td>\n",
       "      <td>2.0</td>\n",
       "      <td>1.0</td>\n",
       "      <td>7405.2</td>\n",
       "      <td>1948</td>\n",
       "      <td>1948</td>\n",
       "      <td>4</td>\n",
       "      <td>40.770038</td>\n",
       "      <td>...</td>\n",
       "      <td>1</td>\n",
       "      <td>0</td>\n",
       "      <td>1</td>\n",
       "      <td>0</td>\n",
       "      <td>0</td>\n",
       "      <td>0</td>\n",
       "      <td>0</td>\n",
       "      <td>0</td>\n",
       "      <td>0</td>\n",
       "      <td>175000.0</td>\n",
       "    </tr>\n",
       "    <tr>\n",
       "      <th>3</th>\n",
       "      <td>2.0</td>\n",
       "      <td>3.0</td>\n",
       "      <td>2124.0</td>\n",
       "      <td>2.0</td>\n",
       "      <td>2.0</td>\n",
       "      <td>11325.6</td>\n",
       "      <td>1961</td>\n",
       "      <td>1961</td>\n",
       "      <td>6</td>\n",
       "      <td>40.797557</td>\n",
       "      <td>...</td>\n",
       "      <td>1</td>\n",
       "      <td>0</td>\n",
       "      <td>1</td>\n",
       "      <td>0</td>\n",
       "      <td>0</td>\n",
       "      <td>0</td>\n",
       "      <td>0</td>\n",
       "      <td>0</td>\n",
       "      <td>0</td>\n",
       "      <td>287500.0</td>\n",
       "    </tr>\n",
       "    <tr>\n",
       "      <th>4</th>\n",
       "      <td>4.0</td>\n",
       "      <td>3.0</td>\n",
       "      <td>2229.0</td>\n",
       "      <td>2.0</td>\n",
       "      <td>2.0</td>\n",
       "      <td>10018.8</td>\n",
       "      <td>1966</td>\n",
       "      <td>1966</td>\n",
       "      <td>8</td>\n",
       "      <td>40.808858</td>\n",
       "      <td>...</td>\n",
       "      <td>1</td>\n",
       "      <td>0</td>\n",
       "      <td>1</td>\n",
       "      <td>0</td>\n",
       "      <td>0</td>\n",
       "      <td>0</td>\n",
       "      <td>0</td>\n",
       "      <td>0</td>\n",
       "      <td>0</td>\n",
       "      <td>259900.0</td>\n",
       "    </tr>\n",
       "  </tbody>\n",
       "</table>\n",
       "<p>5 rows × 42 columns</p>\n",
       "</div>"
      ],
      "text/plain": [
       "   num_bedroom  num_bathroom  livable_area  num_parking  num_garage  lot_size  \\\n",
       "0          3.0           2.0        1320.0          1.0         1.0    8276.0   \n",
       "1          3.0           2.0        1728.0          1.0         1.0    6969.0   \n",
       "2          3.0           2.0        1604.0          2.0         1.0    7405.2   \n",
       "3          2.0           3.0        2124.0          2.0         2.0   11325.6   \n",
       "4          4.0           3.0        2229.0          2.0         2.0   10018.8   \n",
       "\n",
       "   year_built  year_remodel  school_rating   latitude  ...  \\\n",
       "0        1958          1958              7  40.811314  ...   \n",
       "1        1910          1910              3  40.800304  ...   \n",
       "2        1948          1948              4  40.770038  ...   \n",
       "3        1961          1961              6  40.797557  ...   \n",
       "4        1966          1966              8  40.808858  ...   \n",
       "\n",
       "   home_type_single_family  home_type_townhouse  roof_asphalt_compisition  \\\n",
       "0                        1                    0                         0   \n",
       "1                        1                    0                         1   \n",
       "2                        1                    0                         1   \n",
       "3                        1                    0                         1   \n",
       "4                        1                    0                         1   \n",
       "\n",
       "   roof_metal  roof_other  roof_rubber  roof_tile_slate  roof_unknown  \\\n",
       "0           0           1            0                0             0   \n",
       "1           0           0            0                0             0   \n",
       "2           0           0            0                0             0   \n",
       "3           0           0            0                0             0   \n",
       "4           0           0            0                0             0   \n",
       "\n",
       "   roof_wood_cedar    prices  \n",
       "0                0  169900.0  \n",
       "1                0  150000.0  \n",
       "2                0  175000.0  \n",
       "3                0  287500.0  \n",
       "4                0  259900.0  \n",
       "\n",
       "[5 rows x 42 columns]"
      ]
     },
     "execution_count": 301,
     "metadata": {},
     "output_type": "execute_result"
    }
   ],
   "source": [
    "df_dummy.head()"
   ]
  },
  {
   "cell_type": "code",
   "execution_count": 329,
   "metadata": {},
   "outputs": [
    {
     "data": {
      "text/plain": [
       "<matplotlib.axes._subplots.AxesSubplot at 0x218f98a7788>"
      ]
     },
     "execution_count": 329,
     "metadata": {},
     "output_type": "execute_result"
    },
    {
     "data": {
      "image/png": "[encoded data removed]",
      "text/plain": [
       "<Figure size 432x288 with 2 Axes>"
      ]
     },
     "metadata": {
      "needs_background": "light"
     },
     "output_type": "display_data"
    }
   ],
   "source": [
    "sns.heatmap(df_dummy[['livable_area', 'year_remodel', 'latitude', 'longitude', 'prices']].corr(), annot=True)"
   ]
  },
  {
   "cell_type": "code",
   "execution_count": 310,
   "metadata": {},
   "outputs": [],
   "source": [
    "# choose the low/high price to categorize the housee to low/medium/high\n",
    "\n",
    "low = df_dummy.prices.describe().values[4]\n",
    "high = df_dummy.prices.describe().values[6]\n",
    "\n",
    "# categorize house price to low (<low price), medium(>=low price & < high price), high (>= high price)\n",
    "# 0 -> low price; 1-> medium price; 2-> high price\n",
    "def categorize_price(x):\n",
    "    if x < low:\n",
    "        return 0\n",
    "    elif x>=high:\n",
    "        return 2\n",
    "    else:\n",
    "        return 1\n",
    "df_dummy['price_category'] = df_dummy.prices.apply(categorize_price)"
   ]
  },
  {
   "cell_type": "code",
   "execution_count": 315,
   "metadata": {},
   "outputs": [
    {
     "data": {
      "text/plain": [
       "<seaborn.axisgrid.PairGrid at 0x218f47edb48>"
      ]
     },
     "execution_count": 315,
     "metadata": {},
     "output_type": "execute_result"
    },
    {
     "data": {
      "image/png": "[encoded data removed]",
      "text/plain": [
       "<Figure size 900x900 with 30 Axes>"
      ]
     },
     "metadata": {
      "needs_background": "light"
     },
     "output_type": "display_data"
    }
   ],
   "source": [
    "sns.pairplot(df_dummy[['livable_area', 'year_remodel', 'latitude', 'longitude', 'prices']])"
   ]
  },
  {
   "cell_type": "code",
   "execution_count": 338,
   "metadata": {},
   "outputs": [
    {
     "name": "stdout",
     "output_type": "stream",
     "text": [
      "Skewess:  5.587951617490799\n",
      "Kurtosis:  51.92286329389947\n"
     ]
    },
    {
     "data": {
      "image/png": "[encoded data removed]",
      "text/plain": [
       "<Figure size 432x288 with 1 Axes>"
      ]
     },
     "metadata": {
      "needs_background": "light"
     },
     "output_type": "display_data"
    }
   ],
   "source": [
    "# see probability plot\n",
    "_ = stats.probplot(df_dummy.prices, plot=plt)\n",
    "\n",
    "# skew & kurt\n",
    "\n",
    "print('Skewess: ', df_dummy.prices.skew())\n",
    "print('Kurtosis: ', df_dummy.prices.kurt())"
   ]
  },
  {
   "cell_type": "code",
   "execution_count": 339,
   "metadata": {},
   "outputs": [
    {
     "name": "stdout",
     "output_type": "stream",
     "text": [
      "Skewess:  0.34338489573579895\n",
      "Kurtosis:  2.02219686652188\n"
     ]
    }
   ],
   "source": [
    "df_dummy.prices = df_dummy.prices.apply(np.log1p)\n",
    "print('Skewess: ', df_dummy.prices.skew())\n",
    "print('Kurtosis: ', df_dummy.prices.kurt())"
   ]
  },
  {
   "cell_type": "code",
   "execution_count": 340,
   "metadata": {},
   "outputs": [
    {
     "name": "stdout",
     "output_type": "stream",
     "text": [
      "livable_area :  2.9606688424995555\n",
      "year_remodel :  -1.0629720490043828\n"
     ]
    }
   ],
   "source": [
    "# check all skewness\n",
    "\n",
    "for col in ['livable_area', 'year_remodel']:\n",
    "    print(col, ': ', df_dummy[col].skew())"
   ]
  },
  {
   "cell_type": "code",
   "execution_count": 341,
   "metadata": {},
   "outputs": [],
   "source": [
    "# fix skewness\n",
    "\n",
    "lam = 0.15\n",
    "for col in ['livable_area', 'year_remodel']:\n",
    "    df_dummy[col] = boxcox1p(df_dummy[col], lam)\n",
    "    df_dummy[col] = df_dummy[col] + 1"
   ]
  },
  {
   "cell_type": "code",
   "execution_count": 9,
   "metadata": {},
   "outputs": [],
   "source": [
    "# rename df_dummy\n",
    "df_final = df_dummy.copy()\n",
    "cols = list(df_final.columns)\n",
    "cols.remove('year_built')\n",
    "df_final = df_final[cols]\n",
    "df_final.to_csv('df-final.csv')"
   ]
  },
  {
   "cell_type": "code",
   "execution_count": 77,
   "metadata": {},
   "outputs": [],
   "source": [
    "# reload data\n",
    "\n",
    "df_final = pd.read_csv('df_final.csv', index_col=0)"
   ]
  },
  {
   "cell_type": "markdown",
   "metadata": {},
   "source": [
    "## Step 5: Complement the zillow data with Foursquare nearby venues"
   ]
  },
  {
   "cell_type": "code",
   "execution_count": 90,
   "metadata": {},
   "outputs": [],
   "source": [
    "# import libraries\n",
    "\n",
    "import pandas as pd\n",
    "import numpy as np\n",
    "import requests\n",
    "from collections import Counter\n",
    "\n",
    "# set up parameters for Four squares API\n",
    "\n",
    "CLIENT_ID = 'your id' # your Foursquare ID\n",
    "CLIENT_SECRET = 'your secret' # your Foursquare Secret\n",
    "VERSION = '20180605' # Foursquare API version\n",
    "LIMIT = 100 # limit number"
   ]
  },
  {
   "cell_type": "code",
   "execution_count": 91,
   "metadata": {},
   "outputs": [],
   "source": [
    "# help function to get nearby venues\n",
    "\n",
    "# a radius of 3200 meters is used here, which is close to 2 miles\n",
    "def getNearbyVenues(latitudes, longitudes, radius=3200):\n",
    "    venues_lists = []\n",
    "    for lat,lng in zip(latitudes, longtitudes):\n",
    "        \n",
    "        # create the API request URL\n",
    "        url = 'https://api.foursquare.com/v2/venues/explore?&client_id={}&client_secret={}&v={}&ll={},{}&radius={}&limit={}'.format(\n",
    "            CLIENT_ID, \n",
    "            CLIENT_SECRET, \n",
    "            VERSION, \n",
    "            lat, \n",
    "            lng, \n",
    "            radius, \n",
    "            LIMIT)\n",
    "\n",
    "        try:    \n",
    "            # make the GET request\n",
    "            results = requests.get(url).json()[\"response\"]['groups'][0]['items']\n",
    "\n",
    "            # return only relevant information for each nearby venue\n",
    "            v_list = [v['venue']['categories'][0]['name'] for v in results]\n",
    "        except Exception as e:\n",
    "            v_list = []\n",
    "            pass\n",
    "    \n",
    "        venues_lists.append(v_list)\n",
    "    return(venues_lists)"
   ]
  },
  {
   "cell_type": "code",
   "execution_count": 92,
   "metadata": {},
   "outputs": [],
   "source": [
    "# put it all together\n",
    "\n",
    "longtitudes = df_final.longitude.values\n",
    "latitudes = df_final.latitude.values\n",
    "\n",
    "df_final['nearby_venues'] = getNearbyVenues(latitudes, longtitudes)"
   ]
  },
  {
   "cell_type": "code",
   "execution_count": 93,
   "metadata": {},
   "outputs": [],
   "source": [
    "# save data\n",
    "\n",
    "df_final.to_csv('df_final_v3.csv')"
   ]
  },
  {
   "cell_type": "code",
   "execution_count": 94,
   "metadata": {},
   "outputs": [
    {
     "data": {
      "text/html": [
       "<div>\n",
       "<style scoped>\n",
       "    .dataframe tbody tr th:only-of-type {\n",
       "        vertical-align: middle;\n",
       "    }\n",
       "\n",
       "    .dataframe tbody tr th {\n",
       "        vertical-align: top;\n",
       "    }\n",
       "\n",
       "    .dataframe thead th {\n",
       "        text-align: right;\n",
       "    }\n",
       "</style>\n",
       "<table border=\"1\" class=\"dataframe\">\n",
       "  <thead>\n",
       "    <tr style=\"text-align: right;\">\n",
       "      <th></th>\n",
       "      <th>num_bedroom</th>\n",
       "      <th>num_bathroom</th>\n",
       "      <th>livable_area</th>\n",
       "      <th>num_parking</th>\n",
       "      <th>num_garage</th>\n",
       "      <th>lot_size</th>\n",
       "      <th>year_remodel</th>\n",
       "      <th>school_rating</th>\n",
       "      <th>latitude</th>\n",
       "      <th>longitude</th>\n",
       "      <th>...</th>\n",
       "      <th>roof_asphalt_compisition</th>\n",
       "      <th>roof_metal</th>\n",
       "      <th>roof_other</th>\n",
       "      <th>roof_rubber</th>\n",
       "      <th>roof_tile_slate</th>\n",
       "      <th>roof_unknown</th>\n",
       "      <th>roof_wood_cedar</th>\n",
       "      <th>prices</th>\n",
       "      <th>price_category</th>\n",
       "      <th>nearby_venues</th>\n",
       "    </tr>\n",
       "  </thead>\n",
       "  <tbody>\n",
       "    <tr>\n",
       "      <th>3039</th>\n",
       "      <td>5.0</td>\n",
       "      <td>3.0</td>\n",
       "      <td>2241.0</td>\n",
       "      <td>2.0</td>\n",
       "      <td>2.0</td>\n",
       "      <td>13503.6</td>\n",
       "      <td>1964</td>\n",
       "      <td>4</td>\n",
       "      <td>41.620189</td>\n",
       "      <td>-93.719201</td>\n",
       "      <td>...</td>\n",
       "      <td>1</td>\n",
       "      <td>0</td>\n",
       "      <td>0</td>\n",
       "      <td>0</td>\n",
       "      <td>0</td>\n",
       "      <td>0</td>\n",
       "      <td>0</td>\n",
       "      <td>299500.0</td>\n",
       "      <td>1</td>\n",
       "      <td>[Eastern European Restaurant, Ice Cream Shop, ...</td>\n",
       "    </tr>\n",
       "    <tr>\n",
       "      <th>3040</th>\n",
       "      <td>3.0</td>\n",
       "      <td>2.0</td>\n",
       "      <td>1114.0</td>\n",
       "      <td>2.0</td>\n",
       "      <td>2.0</td>\n",
       "      <td>10018.8</td>\n",
       "      <td>1970</td>\n",
       "      <td>5</td>\n",
       "      <td>41.642583</td>\n",
       "      <td>-93.708921</td>\n",
       "      <td>...</td>\n",
       "      <td>1</td>\n",
       "      <td>0</td>\n",
       "      <td>0</td>\n",
       "      <td>0</td>\n",
       "      <td>0</td>\n",
       "      <td>0</td>\n",
       "      <td>0</td>\n",
       "      <td>215105.0</td>\n",
       "      <td>1</td>\n",
       "      <td>[Coffee Shop, Multiplex, Asian Restaurant, Res...</td>\n",
       "    </tr>\n",
       "    <tr>\n",
       "      <th>3041</th>\n",
       "      <td>3.0</td>\n",
       "      <td>3.0</td>\n",
       "      <td>1650.0</td>\n",
       "      <td>2.0</td>\n",
       "      <td>2.0</td>\n",
       "      <td>15681.6</td>\n",
       "      <td>1979</td>\n",
       "      <td>7</td>\n",
       "      <td>41.624912</td>\n",
       "      <td>-93.751430</td>\n",
       "      <td>...</td>\n",
       "      <td>1</td>\n",
       "      <td>0</td>\n",
       "      <td>0</td>\n",
       "      <td>0</td>\n",
       "      <td>0</td>\n",
       "      <td>0</td>\n",
       "      <td>0</td>\n",
       "      <td>251277.0</td>\n",
       "      <td>1</td>\n",
       "      <td>[Salon / Barbershop, Toy / Game Store, Park, G...</td>\n",
       "    </tr>\n",
       "    <tr>\n",
       "      <th>3042</th>\n",
       "      <td>3.0</td>\n",
       "      <td>2.0</td>\n",
       "      <td>1120.0</td>\n",
       "      <td>2.0</td>\n",
       "      <td>2.0</td>\n",
       "      <td>10018.8</td>\n",
       "      <td>1967</td>\n",
       "      <td>5</td>\n",
       "      <td>41.638287</td>\n",
       "      <td>-93.703530</td>\n",
       "      <td>...</td>\n",
       "      <td>1</td>\n",
       "      <td>0</td>\n",
       "      <td>0</td>\n",
       "      <td>0</td>\n",
       "      <td>0</td>\n",
       "      <td>0</td>\n",
       "      <td>0</td>\n",
       "      <td>208984.0</td>\n",
       "      <td>1</td>\n",
       "      <td>[Coffee Shop, Multiplex, Asian Restaurant, Res...</td>\n",
       "    </tr>\n",
       "    <tr>\n",
       "      <th>3043</th>\n",
       "      <td>3.0</td>\n",
       "      <td>3.0</td>\n",
       "      <td>1144.0</td>\n",
       "      <td>2.0</td>\n",
       "      <td>2.0</td>\n",
       "      <td>1742.4</td>\n",
       "      <td>2003</td>\n",
       "      <td>8</td>\n",
       "      <td>41.638044</td>\n",
       "      <td>-93.830826</td>\n",
       "      <td>...</td>\n",
       "      <td>0</td>\n",
       "      <td>0</td>\n",
       "      <td>1</td>\n",
       "      <td>0</td>\n",
       "      <td>0</td>\n",
       "      <td>0</td>\n",
       "      <td>0</td>\n",
       "      <td>182259.0</td>\n",
       "      <td>0</td>\n",
       "      <td>[Gym, Grocery Store, Sports Bar, Furniture / H...</td>\n",
       "    </tr>\n",
       "  </tbody>\n",
       "</table>\n",
       "<p>5 rows × 43 columns</p>\n",
       "</div>"
      ],
      "text/plain": [
       "      num_bedroom  num_bathroom  livable_area  num_parking  num_garage  \\\n",
       "3039          5.0           3.0        2241.0          2.0         2.0   \n",
       "3040          3.0           2.0        1114.0          2.0         2.0   \n",
       "3041          3.0           3.0        1650.0          2.0         2.0   \n",
       "3042          3.0           2.0        1120.0          2.0         2.0   \n",
       "3043          3.0           3.0        1144.0          2.0         2.0   \n",
       "\n",
       "      lot_size  year_remodel  school_rating   latitude  longitude  ...  \\\n",
       "3039   13503.6          1964              4  41.620189 -93.719201  ...   \n",
       "3040   10018.8          1970              5  41.642583 -93.708921  ...   \n",
       "3041   15681.6          1979              7  41.624912 -93.751430  ...   \n",
       "3042   10018.8          1967              5  41.638287 -93.703530  ...   \n",
       "3043    1742.4          2003              8  41.638044 -93.830826  ...   \n",
       "\n",
       "      roof_asphalt_compisition  roof_metal  roof_other  roof_rubber  \\\n",
       "3039                         1           0           0            0   \n",
       "3040                         1           0           0            0   \n",
       "3041                         1           0           0            0   \n",
       "3042                         1           0           0            0   \n",
       "3043                         0           0           1            0   \n",
       "\n",
       "      roof_tile_slate  roof_unknown  roof_wood_cedar    prices  \\\n",
       "3039                0             0                0  299500.0   \n",
       "3040                0             0                0  215105.0   \n",
       "3041                0             0                0  251277.0   \n",
       "3042                0             0                0  208984.0   \n",
       "3043                0             0                0  182259.0   \n",
       "\n",
       "      price_category                                      nearby_venues  \n",
       "3039               1  [Eastern European Restaurant, Ice Cream Shop, ...  \n",
       "3040               1  [Coffee Shop, Multiplex, Asian Restaurant, Res...  \n",
       "3041               1  [Salon / Barbershop, Toy / Game Store, Park, G...  \n",
       "3042               1  [Coffee Shop, Multiplex, Asian Restaurant, Res...  \n",
       "3043               0  [Gym, Grocery Store, Sports Bar, Furniture / H...  \n",
       "\n",
       "[5 rows x 43 columns]"
      ]
     },
     "execution_count": 94,
     "metadata": {},
     "output_type": "execute_result"
    }
   ],
   "source": [
    "# display last 5\n",
    "\n",
    "df_final.tail()"
   ]
  },
  {
   "cell_type": "code",
   "execution_count": 95,
   "metadata": {},
   "outputs": [
    {
     "name": "stdout",
     "output_type": "stream",
     "text": [
      "There are 444 unique venues.\n"
     ]
    }
   ],
   "source": [
    "# count number of venues\n",
    "\n",
    "venue_values = df_final.nearby_venues.values.flatten()\n",
    "\n",
    "# pull all of the venues into a single list\n",
    "\n",
    "total_v = []\n",
    "for v in venue_values:\n",
    "    total_v.extend(v)\n",
    "\n",
    "# convert it to a set to see the unique values\n",
    "unique_venues  = set(total_v)\n",
    "\n",
    "# print the number of unique venues\n",
    "print(f'There are {len(unique_venues)} unique venues.')"
   ]
  },
  {
   "cell_type": "code",
   "execution_count": 96,
   "metadata": {},
   "outputs": [],
   "source": [
    "# add new features \n",
    "\n",
    "unique_venues = list(unique_venues)\n",
    "\n",
    "for venue in unique_venues:\n",
    "    # rename the column name by substitue ' ' with '_'\n",
    "    col = '_'.join(venue.split())\n",
    "    df_final[col] = df_final.nearby_venues.apply(lambda x:Counter(x)[venue])"
   ]
  },
  {
   "cell_type": "code",
   "execution_count": 97,
   "metadata": {},
   "outputs": [],
   "source": [
    "df_final.drop(columns=['nearby_venues'], inplace=True)"
   ]
  },
  {
   "cell_type": "code",
   "execution_count": 104,
   "metadata": {},
   "outputs": [],
   "source": [
    "# re-order columns\n",
    "\n",
    "new_columns = list(df_final.columns)\n",
    "new_columns.remove('prices')\n",
    "new_columns.remove('price_category')\n",
    "new_columns.append('prices')\n",
    "#new_columns.append('price_category')"
   ]
  },
  {
   "cell_type": "code",
   "execution_count": 105,
   "metadata": {},
   "outputs": [],
   "source": [
    "df_final = df_final[new_columns]"
   ]
  },
  {
   "cell_type": "code",
   "execution_count": 106,
   "metadata": {},
   "outputs": [
    {
     "data": {
      "text/plain": [
       "(3044, 485)"
      ]
     },
     "execution_count": 106,
     "metadata": {},
     "output_type": "execute_result"
    }
   ],
   "source": [
    "# print the final dimension of the dataset\n",
    "\n",
    "df_final.shape"
   ]
  },
  {
   "cell_type": "code",
   "execution_count": 107,
   "metadata": {},
   "outputs": [],
   "source": [
    "# display & save\n",
    "\n",
    "df_final.to_csv('df_final_v4.csv')"
   ]
  },
  {
   "cell_type": "code",
   "execution_count": 114,
   "metadata": {},
   "outputs": [
    {
     "data": {
      "text/html": [
       "<div>\n",
       "<style scoped>\n",
       "    .dataframe tbody tr th:only-of-type {\n",
       "        vertical-align: middle;\n",
       "    }\n",
       "\n",
       "    .dataframe tbody tr th {\n",
       "        vertical-align: top;\n",
       "    }\n",
       "\n",
       "    .dataframe thead th {\n",
       "        text-align: right;\n",
       "    }\n",
       "</style>\n",
       "<table border=\"1\" class=\"dataframe\">\n",
       "  <thead>\n",
       "    <tr style=\"text-align: right;\">\n",
       "      <th></th>\n",
       "      <th>num_bedroom</th>\n",
       "      <th>num_bathroom</th>\n",
       "      <th>livable_area</th>\n",
       "      <th>num_parking</th>\n",
       "      <th>num_garage</th>\n",
       "      <th>lot_size</th>\n",
       "      <th>year_remodel</th>\n",
       "      <th>school_rating</th>\n",
       "      <th>latitude</th>\n",
       "      <th>longitude</th>\n",
       "      <th>...</th>\n",
       "      <th>Laundromat</th>\n",
       "      <th>Intersection</th>\n",
       "      <th>Tennis_Court</th>\n",
       "      <th>Locksmith</th>\n",
       "      <th>Monument_/_Landmark</th>\n",
       "      <th>Soccer_Field</th>\n",
       "      <th>Bike_Shop</th>\n",
       "      <th>Hardware_Store</th>\n",
       "      <th>Plaza</th>\n",
       "      <th>prices</th>\n",
       "    </tr>\n",
       "  </thead>\n",
       "  <tbody>\n",
       "    <tr>\n",
       "      <th>0</th>\n",
       "      <td>5.0</td>\n",
       "      <td>5.0</td>\n",
       "      <td>4319.0</td>\n",
       "      <td>2.0</td>\n",
       "      <td>3.0</td>\n",
       "      <td>11325.6</td>\n",
       "      <td>2013</td>\n",
       "      <td>8</td>\n",
       "      <td>41.251022</td>\n",
       "      <td>-96.223930</td>\n",
       "      <td>...</td>\n",
       "      <td>0</td>\n",
       "      <td>0</td>\n",
       "      <td>0</td>\n",
       "      <td>0</td>\n",
       "      <td>0</td>\n",
       "      <td>0</td>\n",
       "      <td>0</td>\n",
       "      <td>1</td>\n",
       "      <td>0</td>\n",
       "      <td>529500.0</td>\n",
       "    </tr>\n",
       "    <tr>\n",
       "      <th>1</th>\n",
       "      <td>2.0</td>\n",
       "      <td>2.0</td>\n",
       "      <td>720.0</td>\n",
       "      <td>2.0</td>\n",
       "      <td>1.0</td>\n",
       "      <td>7405.2</td>\n",
       "      <td>1951</td>\n",
       "      <td>3</td>\n",
       "      <td>41.615270</td>\n",
       "      <td>-93.688860</td>\n",
       "      <td>...</td>\n",
       "      <td>0</td>\n",
       "      <td>0</td>\n",
       "      <td>0</td>\n",
       "      <td>0</td>\n",
       "      <td>0</td>\n",
       "      <td>0</td>\n",
       "      <td>0</td>\n",
       "      <td>0</td>\n",
       "      <td>0</td>\n",
       "      <td>132900.0</td>\n",
       "    </tr>\n",
       "    <tr>\n",
       "      <th>2</th>\n",
       "      <td>2.0</td>\n",
       "      <td>2.0</td>\n",
       "      <td>1535.0</td>\n",
       "      <td>1.0</td>\n",
       "      <td>1.0</td>\n",
       "      <td>9583.2</td>\n",
       "      <td>2002</td>\n",
       "      <td>2</td>\n",
       "      <td>41.584598</td>\n",
       "      <td>-93.627449</td>\n",
       "      <td>...</td>\n",
       "      <td>0</td>\n",
       "      <td>0</td>\n",
       "      <td>0</td>\n",
       "      <td>0</td>\n",
       "      <td>0</td>\n",
       "      <td>0</td>\n",
       "      <td>0</td>\n",
       "      <td>0</td>\n",
       "      <td>1</td>\n",
       "      <td>358500.0</td>\n",
       "    </tr>\n",
       "    <tr>\n",
       "      <th>3</th>\n",
       "      <td>3.0</td>\n",
       "      <td>3.0</td>\n",
       "      <td>1624.0</td>\n",
       "      <td>2.0</td>\n",
       "      <td>2.0</td>\n",
       "      <td>9583.2</td>\n",
       "      <td>2020</td>\n",
       "      <td>7</td>\n",
       "      <td>41.565910</td>\n",
       "      <td>-93.819442</td>\n",
       "      <td>...</td>\n",
       "      <td>0</td>\n",
       "      <td>0</td>\n",
       "      <td>0</td>\n",
       "      <td>0</td>\n",
       "      <td>0</td>\n",
       "      <td>0</td>\n",
       "      <td>0</td>\n",
       "      <td>1</td>\n",
       "      <td>0</td>\n",
       "      <td>271900.0</td>\n",
       "    </tr>\n",
       "    <tr>\n",
       "      <th>4</th>\n",
       "      <td>4.0</td>\n",
       "      <td>2.0</td>\n",
       "      <td>1827.0</td>\n",
       "      <td>2.0</td>\n",
       "      <td>2.0</td>\n",
       "      <td>7405.2</td>\n",
       "      <td>1964</td>\n",
       "      <td>1</td>\n",
       "      <td>41.308938</td>\n",
       "      <td>-96.013697</td>\n",
       "      <td>...</td>\n",
       "      <td>0</td>\n",
       "      <td>1</td>\n",
       "      <td>1</td>\n",
       "      <td>0</td>\n",
       "      <td>0</td>\n",
       "      <td>0</td>\n",
       "      <td>0</td>\n",
       "      <td>1</td>\n",
       "      <td>0</td>\n",
       "      <td>165000.0</td>\n",
       "    </tr>\n",
       "  </tbody>\n",
       "</table>\n",
       "<p>5 rows × 485 columns</p>\n",
       "</div>"
      ],
      "text/plain": [
       "   num_bedroom  num_bathroom  livable_area  num_parking  num_garage  lot_size  \\\n",
       "0          5.0           5.0        4319.0          2.0         3.0   11325.6   \n",
       "1          2.0           2.0         720.0          2.0         1.0    7405.2   \n",
       "2          2.0           2.0        1535.0          1.0         1.0    9583.2   \n",
       "3          3.0           3.0        1624.0          2.0         2.0    9583.2   \n",
       "4          4.0           2.0        1827.0          2.0         2.0    7405.2   \n",
       "\n",
       "   year_remodel  school_rating   latitude  longitude  ...  Laundromat  \\\n",
       "0          2013              8  41.251022 -96.223930  ...           0   \n",
       "1          1951              3  41.615270 -93.688860  ...           0   \n",
       "2          2002              2  41.584598 -93.627449  ...           0   \n",
       "3          2020              7  41.565910 -93.819442  ...           0   \n",
       "4          1964              1  41.308938 -96.013697  ...           0   \n",
       "\n",
       "   Intersection  Tennis_Court  Locksmith  Monument_/_Landmark  Soccer_Field  \\\n",
       "0             0             0          0                    0             0   \n",
       "1             0             0          0                    0             0   \n",
       "2             0             0          0                    0             0   \n",
       "3             0             0          0                    0             0   \n",
       "4             1             1          0                    0             0   \n",
       "\n",
       "   Bike_Shop  Hardware_Store  Plaza    prices  \n",
       "0          0               1      0  529500.0  \n",
       "1          0               0      0  132900.0  \n",
       "2          0               0      1  358500.0  \n",
       "3          0               1      0  271900.0  \n",
       "4          0               1      0  165000.0  \n",
       "\n",
       "[5 rows x 485 columns]"
      ]
     },
     "execution_count": 114,
     "metadata": {},
     "output_type": "execute_result"
    }
   ],
   "source": [
    "df_final.head()"
   ]
  },
  {
   "cell_type": "markdown",
   "metadata": {},
   "source": [
    "## Step 6: Regression Models"
   ]
  },
  {
   "cell_type": "code",
   "execution_count": 133,
   "metadata": {},
   "outputs": [],
   "source": [
    "# record models and performances\n",
    "\n",
    "_estimators = []\n",
    "_r2 = []\n",
    "_mse = []"
   ]
  },
  {
   "cell_type": "code",
   "execution_count": 177,
   "metadata": {},
   "outputs": [],
   "source": [
    "# import library for machine learning\n",
    "\n",
    "from sklearn.linear_model import Lasso, Ridge\n",
    "from sklearn.ensemble import RandomForestRegressor, RandomForestClassifier\n",
    "from sklearn.preprocessing import StandardScaler\n",
    "from scipy.stats import norm\n",
    "from scipy import stats\n",
    "from sklearn.metrics import r2_score, mean_squared_error, log_loss, confusion_matrix, accuracy_score\n",
    "from sklearn.model_selection import GridSearchCV, RandomizedSearchCV, train_test_split"
   ]
  },
  {
   "cell_type": "code",
   "execution_count": 110,
   "metadata": {},
   "outputs": [],
   "source": [
    "# shuffle the dataset\n",
    "\n",
    "df_final = df_final.sample(frac=1)\n",
    "df_final.reset_index(drop=True, inplace=True)\n",
    "\n",
    "# train-test split ( 25% for test)\n",
    "X = df_final.iloc[:, :-1]\n",
    "y_r = df_final.iloc[:, -1]\n",
    "\n",
    "# for regression\n",
    "X_train_r, X_test_r, y_train_r, y_test_r = train_test_split(X, y_r, test_size=0.25)\n",
    "\n",
    "# for classification\n",
    "# X_train_c, X_test_c, y_train_c, y_test_c = train_test_split(X, y_c, test_size=0.25) "
   ]
  },
  {
   "cell_type": "code",
   "execution_count": 197,
   "metadata": {},
   "outputs": [
    {
     "data": {
      "image/png": "[encoded data removed]",
      "text/plain": [
       "<Figure size 432x288 with 2 Axes>"
      ]
     },
     "metadata": {
      "needs_background": "light"
     },
     "output_type": "display_data"
    }
   ],
   "source": [
    "# display correlation between features\n",
    "\n",
    "sns.heatmap(X.corr(), xticklabels=False, yticklabels=False)\n",
    "plt.tight_layout()\n",
    "plt.savefig('correlation.png')"
   ]
  },
  {
   "cell_type": "code",
   "execution_count": 111,
   "metadata": {},
   "outputs": [],
   "source": [
    "# normalization the numeric features\n",
    "\n",
    "X_norm = X.copy()\n",
    "for col in X.columns:\n",
    "    temp_mean = X[col].mean()\n",
    "    temp_std = X[col].std()\n",
    "    X_norm[col] = (X[col]-temp_mean)/temp_std"
   ]
  },
  {
   "cell_type": "code",
   "execution_count": 120,
   "metadata": {},
   "outputs": [],
   "source": [
    "y_norm = (y_r-y_r.mean())/y_r.std()"
   ]
  },
  {
   "cell_type": "markdown",
   "metadata": {},
   "source": [
    "### 6.1 Lasso regression"
   ]
  },
  {
   "cell_type": "code",
   "execution_count": 131,
   "metadata": {},
   "outputs": [
    {
     "name": "stderr",
     "output_type": "stream",
     "text": [
      "C:\\Users\\Jun\\AppData\\Local\\Continuum\\anaconda3\\lib\\site-packages\\sklearn\\linear_model\\_coordinate_descent.py:532: ConvergenceWarning: Objective did not converge. You might want to increase the number of iterations. Duality gap: 1.6567107752523498, tolerance: 0.19070579000134394\n",
      "  positive)\n"
     ]
    },
    {
     "data": {
      "text/plain": [
       "GridSearchCV(estimator=Lasso(max_iter=10000, random_state=1),\n",
       "             param_grid={'alpha': [0.0001, 0.001, 0.01, 0.1, 1]})"
      ]
     },
     "execution_count": 131,
     "metadata": {},
     "output_type": "execute_result"
    }
   ],
   "source": [
    "# split normalized data\n",
    "\n",
    "X_train_norm, X_test_norm, y_train_norm, y_test_norm = train_test_split(X_norm, y_norm, test_size=0.25)\n",
    "\n",
    "# grid search lasso\n",
    "lasso_params = {'alpha': [0.0001, 0.001, 0.01, 0.1, 1]}\n",
    "\n",
    "lasso_norm = Lasso(random_state=1, max_iter=10000)\n",
    "clf_lasso_norm = GridSearchCV(lasso_norm, lasso_params)\n",
    "clf_lasso_norm.fit(X_train_norm, y_train_norm)"
   ]
  },
  {
   "cell_type": "code",
   "execution_count": 180,
   "metadata": {},
   "outputs": [
    {
     "data": {
      "image/png": "[encoded data removed]",
      "text/plain": [
       "<Figure size 432x288 with 1 Axes>"
      ]
     },
     "metadata": {
      "needs_background": "light"
     },
     "output_type": "display_data"
    }
   ],
   "source": [
    "lasso_norm_feature_index = np.argsort(clf_lasso_norm.best_estimator_.coef_)[-15:]\n",
    "_ = plt.barh(range(15), clf_lasso_norm.best_estimator_.coef_[lasso_norm_feature_index])\n",
    "_ = plt.yticks(range(15), X_train_norm.columns[lasso_norm_feature_index], fontsize=12)\n",
    "plt.xlabel('Feature Importance', fontsize=15)\n",
    "plt.xticks(fontsize=12)\n",
    "plt.savefig('lasso-norm.png')"
   ]
  },
  {
   "cell_type": "code",
   "execution_count": 134,
   "metadata": {},
   "outputs": [],
   "source": [
    "# records lasso-norm performance\n",
    "\n",
    "_estimators.append('lasso-norm')\n",
    "_r2.append(r2_score(y_test_norm, clf_lasso_norm.best_estimator_.predict(X_test_norm)))\n",
    "_mse.append(mean_squared_error(y_test_norm, clf_lasso_norm.best_estimator_.predict(X_test_norm)))"
   ]
  },
  {
   "cell_type": "markdown",
   "metadata": {},
   "source": [
    "### 6.2 Ridge"
   ]
  },
  {
   "cell_type": "code",
   "execution_count": 178,
   "metadata": {},
   "outputs": [],
   "source": [
    "ridge_params = {'alpha': [0.0001, 0.001, 0.01, 0.1, 1, 10]}\n",
    "\n",
    "ridge_norm = Ridge(random_state=1, max_iter=10000)\n",
    "clf_ridge_norm = GridSearchCV(ridge_norm, ridge_params)\n",
    "clf_ridge_norm.fit(X_train_norm, y_train_norm)\n",
    "\n",
    "_estimators.append('ridge-norm')\n",
    "_r2.append(r2_score(y_test_norm, clf_ridge_norm.best_estimator_.predict(X_test_norm)))\n",
    "_mse.append(mean_squared_error(y_test_norm, clf_ridge_norm.best_estimator_.predict(X_test_norm)))"
   ]
  },
  {
   "cell_type": "code",
   "execution_count": 179,
   "metadata": {},
   "outputs": [
    {
     "data": {
      "image/png": "[encoded data removed]",
      "text/plain": [
       "<Figure size 432x288 with 1 Axes>"
      ]
     },
     "metadata": {
      "needs_background": "light"
     },
     "output_type": "display_data"
    }
   ],
   "source": [
    "ridge_norm_feature_index = np.argsort(clf_ridge_norm.best_estimator_.coef_)[-15:]\n",
    "_ = plt.barh(range(15), clf_ridge_norm.best_estimator_.coef_[ridge_norm_feature_index])\n",
    "_ = plt.yticks(range(15), X_train_norm.columns[ridge_norm_feature_index], fontsize=12)\n",
    "plt.xlabel('Feature Importance', fontsize=15)\n",
    "plt.xticks(fontsize=12)\n",
    "plt.savefig('ridge-norm.png')"
   ]
  },
  {
   "cell_type": "markdown",
   "metadata": {},
   "source": [
    "### 6.3 RF Regressor"
   ]
  },
  {
   "cell_type": "code",
   "execution_count": 136,
   "metadata": {},
   "outputs": [
    {
     "name": "stdout",
     "output_type": "stream",
     "text": [
      "Fitting 5 folds for each of 100 candidates, totalling 500 fits\n"
     ]
    },
    {
     "data": {
      "text/plain": [
       "RandomizedSearchCV(cv=5, estimator=RandomForestRegressor(), n_iter=100,\n",
       "                   n_jobs=-1,\n",
       "                   param_distributions={'bootstrap': [True, False],\n",
       "                                        'max_depth': [10, 20, 30, 40, 50, 60,\n",
       "                                                      70, 80, 90, 100, 110,\n",
       "                                                      None],\n",
       "                                        'max_features': ['auto', 'sqrt'],\n",
       "                                        'min_samples_leaf': [1, 2, 4],\n",
       "                                        'min_samples_split': [2, 5, 10],\n",
       "                                        'n_estimators': [200, 400, 600, 800,\n",
       "                                                         1000, 1200, 1400, 1600,\n",
       "                                                         1800, 2000]},\n",
       "                   random_state=42, verbose=2)"
      ]
     },
     "execution_count": 136,
     "metadata": {},
     "output_type": "execute_result"
    }
   ],
   "source": [
    "# RF parameter grid\n",
    "\n",
    "# Number of trees in random forest\n",
    "n_estimators = [int(x) for x in np.linspace(start = 200, stop = 1000, num = 10)]\n",
    "# Number of features to consider at every split\n",
    "max_features = ['auto', 'sqrt']\n",
    "# Maximum number of levels in tree\n",
    "max_depth = [int(x) for x in np.linspace(5, 100, num = 20)]\n",
    "max_depth.append(None)\n",
    "# Minimum number of samples required to split a node\n",
    "min_samples_split = [2, 5, 10]\n",
    "# Minimum number of samples required at each leaf node\n",
    "min_samples_leaf = [1, 2, 4]\n",
    "# Method of selecting samples for training each tree\n",
    "bootstrap = [True, False]\n",
    "\n",
    "# Create the random grid\n",
    "random_grid = {'n_estimators': n_estimators,\n",
    "               'max_features': max_features,\n",
    "               'max_depth': max_depth,\n",
    "               'min_samples_split': min_samples_split,\n",
    "               'min_samples_leaf': min_samples_leaf,\n",
    "               'bootstrap': bootstrap}\n",
    "\n",
    "# Use the random grid to search for best hyperparameters\n",
    "# First create the base model to tune\n",
    "rf = RandomForestRegressor()\n",
    "# Random search of parameters, using 5 fold cross validation, \n",
    "# search across 100 different combinations, and use all available cores\n",
    "rf_random = RandomizedSearchCV(estimator = rf, param_distributions = random_grid, n_iter = 100, cv = 5, verbose=2, random_state=42, n_jobs = -1)\n",
    "# Fit the random search model\n",
    "rf_random.fit(X_train_r, y_train_r)"
   ]
  },
  {
   "cell_type": "code",
   "execution_count": 137,
   "metadata": {},
   "outputs": [],
   "source": [
    "_estimators.append('random forest')\n",
    "_r2.append(r2_score(y_test_r, rf_random.best_estimator_.predict(X_test_r)))\n",
    "_mse.append(mean_squared_error(y_test_r, rf_random.best_estimator_.predict(X_test_r)))"
   ]
  },
  {
   "cell_type": "code",
   "execution_count": 146,
   "metadata": {},
   "outputs": [
    {
     "data": {
      "image/png": "[encoded data removed]",
      "text/plain": [
       "<Figure size 432x288 with 1 Axes>"
      ]
     },
     "metadata": {
      "needs_background": "light"
     },
     "output_type": "display_data"
    }
   ],
   "source": [
    "# plot feature importance\n",
    "rf_feature_importance_idx= np.argsort(rf_random.best_estimator_.feature_importances_)[-15:]\n",
    "_ = plt.barh(range(15), rf_random.best_estimator_.feature_importances_[rf_feature_importance_idx])\n",
    "_ = plt.yticks(range(15), X_train_r.columns[rf_feature_importance_idx], fontsize=12)\n",
    "plt.xlabel('Feature Importance', fontsize=15)\n",
    "plt.xticks(fontsize=12)\n",
    "plt.savefig('random_forest.png')"
   ]
  },
  {
   "cell_type": "markdown",
   "metadata": {},
   "source": [
    "### 6.3 RF with feature selection from model "
   ]
  },
  {
   "cell_type": "code",
   "execution_count": 148,
   "metadata": {},
   "outputs": [
    {
     "data": {
      "text/plain": [
       "RFE(estimator=RandomForestRegressor(), n_features_to_select=0.3, step=5)"
      ]
     },
     "execution_count": 148,
     "metadata": {},
     "output_type": "execute_result"
    }
   ],
   "source": [
    "# use recursive feature elimination cross valiation \n",
    "# for features selection\n",
    "\n",
    "from sklearn.feature_selection import RFECV, RFE\n",
    "rfr = RandomForestRegressor()\n",
    "selector = RFE(rfr, n_features_to_select = 0.3, step=5)\n",
    "selector.fit(X, y_r)"
   ]
  },
  {
   "cell_type": "code",
   "execution_count": 169,
   "metadata": {},
   "outputs": [],
   "source": [
    "# choose the selected features\n",
    "\n",
    "selected_cols = X.columns[np.where(selector.support_ == True)]\n",
    "X_selected = X[selected_cols]"
   ]
  },
  {
   "cell_type": "code",
   "execution_count": 170,
   "metadata": {},
   "outputs": [
    {
     "name": "stdout",
     "output_type": "stream",
     "text": [
      "Fitting 5 folds for each of 100 candidates, totalling 500 fits\n"
     ]
    },
    {
     "data": {
      "text/plain": [
       "RandomizedSearchCV(cv=5, estimator=RandomForestRegressor(), n_iter=100,\n",
       "                   n_jobs=-1,\n",
       "                   param_distributions={'bootstrap': [True, False],\n",
       "                                        'max_depth': [5, 10, 15, 20, 25, 30, 35,\n",
       "                                                      40, 45, 50, 55, 60, 65,\n",
       "                                                      70, 75, 80, 85, 90, 95,\n",
       "                                                      100, None],\n",
       "                                        'max_features': ['auto', 'sqrt'],\n",
       "                                        'min_samples_leaf': [1, 2, 4],\n",
       "                                        'min_samples_split': [2, 5, 10],\n",
       "                                        'n_estimators': [200, 288, 377, 466,\n",
       "                                                         555, 644, 733, 822,\n",
       "                                                         911, 1000]},\n",
       "                   random_state=42, verbose=2)"
      ]
     },
     "execution_count": 170,
     "metadata": {},
     "output_type": "execute_result"
    }
   ],
   "source": [
    "# redo train-test split\n",
    "\n",
    "X_train_sel, X_test_sel, y_train_sel, y_test_sel = train_test_split(X_selected, y_r, test_size=0.25)\n",
    "\n",
    "\n",
    "# RF parameter grid for search\n",
    "\n",
    "# Number of trees in random forest\n",
    "n_estimators = [int(x) for x in np.linspace(start = 200, stop = 1000, num = 10)]\n",
    "# Number of features to consider at every split\n",
    "max_features = ['auto', 'sqrt']\n",
    "# Maximum number of levels in tree\n",
    "max_depth = [int(x) for x in np.linspace(5, 100, num = 20)]\n",
    "max_depth.append(None)\n",
    "# Minimum number of samples required to split a node\n",
    "min_samples_split = [2, 5, 10]\n",
    "# Minimum number of samples required at each leaf node\n",
    "min_samples_leaf = [1, 2, 4]\n",
    "# Method of selecting samples for training each tree\n",
    "bootstrap = [True, False]\n",
    "\n",
    "# Create the random grid\n",
    "random_grid_sel = {'n_estimators': n_estimators,\n",
    "               'max_features': max_features,\n",
    "               'max_depth': max_depth,\n",
    "               'min_samples_split': min_samples_split,\n",
    "               'min_samples_leaf': min_samples_leaf,\n",
    "               'bootstrap': bootstrap}\n",
    "\n",
    "# Use the random grid to search for best hyperparameters\n",
    "# First create the base model to tune\n",
    "rf = RandomForestRegressor()\n",
    "# Random search of parameters, using 5 fold cross validation, \n",
    "# search across 100 different combinations, and use all available cores\n",
    "rf_random_sel = RandomizedSearchCV(estimator = rf, param_distributions = random_grid_sel, n_iter = 100, cv = 5, verbose=2, random_state=42, n_jobs = -1)\n",
    "# Fit the random search model\n",
    "rf_random_sel.fit(X_train_sel, y_train_sel)"
   ]
  },
  {
   "cell_type": "code",
   "execution_count": 172,
   "metadata": {},
   "outputs": [],
   "source": [
    "_estimators.append('random forest (RFE)')\n",
    "_r2.append(r2_score(y_test_sel, rf_random_sel.best_estimator_.predict(X_test_sel)))\n",
    "_mse.append(mean_squared_error(y_test_sel, rf_random_sel.best_estimator_.predict(X_test_sel)))"
   ]
  },
  {
   "cell_type": "code",
   "execution_count": 183,
   "metadata": {},
   "outputs": [
    {
     "data": {
      "image/png": "[encoded data removed]",
      "text/plain": [
       "<Figure size 432x288 with 1 Axes>"
      ]
     },
     "metadata": {
      "needs_background": "light"
     },
     "output_type": "display_data"
    }
   ],
   "source": [
    "# plot feature importance\n",
    "rf_feature_importance_idx2= np.argsort(rf_random_sel.best_estimator_.feature_importances_)[-15:]\n",
    "_ = plt.barh(range(15), rf_random_sel.best_estimator_.feature_importances_[rf_feature_importance_idx2])\n",
    "_ = plt.yticks(range(15), X_train_sel.columns[rf_feature_importance_idx2], fontsize=12)\n",
    "plt.xlabel('Feature Importance', fontsize=15)\n",
    "plt.xticks(fontsize=12)\n",
    "plt.savefig('random_forest_rfe.png')"
   ]
  },
  {
   "cell_type": "code",
   "execution_count": 203,
   "metadata": {},
   "outputs": [
    {
     "data": {
      "image/png": "[encoded data removed]",
      "text/plain": [
       "<Figure size 432x288 with 1 Axes>"
      ]
     },
     "metadata": {
      "needs_background": "light"
     },
     "output_type": "display_data"
    }
   ],
   "source": [
    "_ = plt.bar(range(4), _r2)\n",
    "plt.xticks(range(4), _estimators, rotation=30, fontsize=12)\n",
    "plt.yticks(fontsize=12)\n",
    "plt.ylabel('r squared', fontsize=14)\n",
    "plt.tight_layout()\n",
    "plt.savefig('model_performance.png')"
   ]
  }
 ],
 "metadata": {
  "kernelspec": {
   "display_name": "Python 3",
   "language": "python",
   "name": "python3"
  },
  "language_info": {
   "codemirror_mode": {
    "name": "ipython",
    "version": 3
   },
   "file_extension": ".py",
   "mimetype": "text/x-python",
   "name": "python",
   "nbconvert_exporter": "python",
   "pygments_lexer": "ipython3",
   "version": "3.7.6"
  }
 },
 "nbformat": 4,
 "nbformat_minor": 4
}
